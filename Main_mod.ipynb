{
 "cells": [
  {
   "cell_type": "code",
   "execution_count": 1,
   "metadata": {},
   "outputs": [],
   "source": [
    "import pandas as pd\n",
    "import matplotlib.pyplot as plt\n",
    "import numpy as np\n",
    "from tqdm import tqdm\n",
    "\n",
    "# Importing DataLoaders for each model. These models include rule-based, vanilla DQN and encoder-decoder DQN.\n",
    "from DataLoader.DataLoader import YahooFinanceDataLoader\n",
    "from DataLoader.DataForPatternBasedAgent import DataForPatternBasedAgent\n",
    "from DataLoader.DataAutoPatternExtractionAgent import DataAutoPatternExtractionAgent\n",
    "from DataLoader.DataSequential import DataSequential \n",
    "\n",
    "from DeepRLAgent.MLPEncoder.Train import Train as SimpleMLP\n",
    "from DeepRLAgent.SimpleCNNEncoder.Train import Train as SimpleCNN\n",
    "from EncoderDecoderAgent.GRU.Train import Train as gru\n",
    "from EncoderDecoderAgent.CNN.Train import Train as cnn\n",
    "from EncoderDecoderAgent.CNN2D.Train import Train as cnn2d\n",
    "from EncoderDecoderAgent.CNNAttn.Train import Train as cnn_attn\n",
    "from EncoderDecoderAgent.CNN_GRU.Train import Train as cnn_gru\n",
    "\n",
    "\n",
    "# Imports for Deep RL Agent\n",
    "from DeepRLAgent.VanillaInput.Train import Train as DeepRL\n",
    "\n",
    "\n",
    "\n",
    "# Imports for RL Agent with n-step SARSA\n",
    "from RLAgent.Train import Train as RLTrain\n",
    "\n",
    "# Imports for Rule-Based\n",
    "from PatternDetectionInCandleStick.LabelPatterns import label_candles\n",
    "from PatternDetectionInCandleStick.Evaluation import Evaluation\n",
    "\n",
    "\n",
    "import torch\n",
    "device = torch.device(\"cuda\" if torch.cuda.is_available() else \"cpu\")"
   ]
  },
  {
   "cell_type": "code",
   "execution_count": 2,
   "metadata": {},
   "outputs": [],
   "source": [
    "import matplotlib.pyplot as plt\n",
    "import seaborn as sns\n",
    "from kaleido.scopes.plotly import PlotlyScope\n",
    "import plotly.graph_objs as go\n",
    "import numpy as np\n",
    "import pandas as pd\n",
    "import os\n",
    "import random\n",
    "\n",
    "CURRENT_PATH = os.getcwd()"
   ]
  },
  {
   "cell_type": "markdown",
   "metadata": {},
   "source": [
    "`BATCH_SIZE` is set to 10 based on some analysis on the experiments. You can change it to whatever you want. `n_step` is the cumulative reward of n-steps in the future. `initial_investment` is the amount invested at the beginning of the process of trading. "
   ]
  },
  {
   "cell_type": "code",
   "execution_count": 3,
   "metadata": {},
   "outputs": [],
   "source": [
    "BATCH_SIZE = 10\n",
    "GAMMA=0.7\n",
    "n_step = 10\n",
    "\n",
    "initial_investment = 1000"
   ]
  },
  {
   "cell_type": "markdown",
   "metadata": {},
   "source": [
    "`train_portfolios` and `test_portfolios` are dictionaries for saving the portfolio result of different models. The `key` of the dictionary is the model name and the `value` is a list of values showing the value of portfolio at each time-step. The `window_size_experiment` is the dictionary for storing the results of the experiments done for evaluating the effect of different window-sizes on portfolio values.   "
   ]
  },
  {
   "cell_type": "code",
   "execution_count": 4,
   "metadata": {},
   "outputs": [],
   "source": [
    "train_portfolios = {}\n",
    "test_portfolios = {}\n",
    "window_size_experiment = {}\n",
    "window_sizes = [12, 15, 20, 25, 30, 40, 50]"
   ]
  },
  {
   "cell_type": "markdown",
   "metadata": {},
   "source": [
    "The following two helper functions are for storing the portfolio result of diffrent experiments given the `model_name` and a list of portfolio values. "
   ]
  },
  {
   "cell_type": "code",
   "execution_count": 5,
   "metadata": {},
   "outputs": [],
   "source": [
    "def add_train_portfo(model_name, portfo):\n",
    "    counter = 0\n",
    "    key = f'{model_name}'\n",
    "    while key in train_portfolios.keys():\n",
    "        counter += 1\n",
    "        key = f'{model_name}{counter}'\n",
    "        \n",
    "    train_portfolios[key] = portfo\n",
    "\n",
    "def add_test_portfo(model_name, portfo):\n",
    "    counter = 0\n",
    "    key = f'{model_name}'\n",
    "    while key in test_portfolios.keys():\n",
    "        counter += 1\n",
    "        key = f'{model_name}{counter}'\n",
    "    \n",
    "    test_portfolios[key] = portfo"
   ]
  },
  {
   "cell_type": "markdown",
   "metadata": {},
   "source": [
    "## Data"
   ]
  },
  {
   "cell_type": "markdown",
   "metadata": {},
   "source": [
    "The following blocks are for choosing a specific data to run the experiments. For example if you want to run the experiments on `BTC-USD` you should only run the first block, for `GOOGL` run the second block, blah blah blah. As also discussed in the documentation of the YahooFinanceDataLoader, you can set the `begin_date` and `end_date` to select a specific period from the original data. Also you can set the `split_point` which is a date of splitting train and test data. If your origianl file has changed or you are running the data for the first time, set the `load_from_file` to `false`. Otherwise set it to `True` to load from the preprocessed file."
   ]
  },
  {
   "cell_type": "code",
   "execution_count": null,
   "metadata": {},
   "outputs": [],
   "source": [
    "# ETH-USD\n",
    "\n",
    "DATASET_NAME = 'ETH-USD'\n",
    "DATASET_FOLDER = r'ETH-USD'\n",
    "FILE = r'ETH-USD.csv'\n",
    "data_loader = YahooFinanceDataLoader(DATASET_FOLDER, '2021-10-07', load_from_file=True)\n",
    "transaction_cost = 0.0"
   ]
  },
  {
   "cell_type": "code",
   "execution_count": 6,
   "metadata": {},
   "outputs": [],
   "source": [
    "# BTC-USD\n",
    "\n",
    "DATASET_NAME = 'BTC-USD'\n",
    "DATASET_FOLDER = r'BTC-USD'\n",
    "FILE = r'BTC-USD.csv'\n",
    "data_loader = YahooFinanceDataLoader(DATASET_FOLDER, '2021-10-07', load_from_file=True)\n",
    "transaction_cost = 0.0"
   ]
  },
  {
   "cell_type": "code",
   "execution_count": null,
   "metadata": {},
   "outputs": [],
   "source": [
    "# BNB-USD\n",
    "\n",
    "DATASET_NAME = 'BNB-USD'\n",
    "DATASET_FOLDER = r'BNB-USD'\n",
    "FILE = r'BNB-USD.csv'\n",
    "data_loader = YahooFinanceDataLoader(DATASET_FOLDER, '2021-10-07', load_from_file=True)\n",
    "transaction_cost = 0.0"
   ]
  },
  {
   "cell_type": "code",
   "execution_count": 32,
   "metadata": {},
   "outputs": [],
   "source": [
    "# LTC-USD\n",
    "\n",
    "DATASET_NAME = 'LTC-USD'\n",
    "DATASET_FOLDER = r'LTC-USD'\n",
    "FILE = r'LTC-USD.csv'\n",
    "data_loader = YahooFinanceDataLoader(DATASET_FOLDER, '2021-10-07', load_from_file=True)\n",
    "transaction_cost = 0.0"
   ]
  },
  {
   "cell_type": "code",
   "execution_count": 6,
   "metadata": {},
   "outputs": [],
   "source": [
    "# XRP-USD\n",
    "\n",
    "DATASET_NAME = 'XRP-USD'\n",
    "DATASET_FOLDER = r'XRP-USD'\n",
    "FILE = r'XRP-USD.csv'\n",
    "data_loader = YahooFinanceDataLoader(DATASET_FOLDER, '2021-10-07', load_from_file=True)\n",
    "transaction_cost = 0.0"
   ]
  },
  {
   "cell_type": "markdown",
   "metadata": {},
   "source": [
    "The following block is for choosing the observation-space mode. `state_mode = 1` is when the observation space contains only the Open, High, Low, and Close data. `state_mode = 2` also has a `trend` showing the trend of the stock before the candle stick at a specific time-step. `state_mode = 3` has OHLC and trend plus the size of the body, upper and lower shadow of the candle. `state_mode = 4` contains only the trend of the stock before that time-step plus the size of the body of the candle, upper and lower shadows. `state_mode = 5` is a window of `window-size` OHLCs plus the trend of the stock in that window. Pay attention that the window_size here is only for `DataAutoPatternExtractionAgent` not for the `DataSequential` which is the data used for time-series models like CNN and GRU. `DataForPatternBasedAgent` uses the extracted patterns as observation space. This kind of observation space is mainly used by RL agent with SARSA-$\\lambda$ and one kind of DQN model."
   ]
  },
  {
   "cell_type": "code",
   "execution_count": 7,
   "metadata": {},
   "outputs": [],
   "source": [
    "# Agent with Auto pattern extraction\n",
    "# State Mode\n",
    "state_mode = 1  # OHLC\n",
    "# state_mode = 2  # OHLC + trend\n",
    "# state_mode = 3  # OHLC + trend + %body + %upper-shadow + %lower-shadow\n",
    "window_size = None"
   ]
  },
  {
   "cell_type": "code",
   "execution_count": 8,
   "metadata": {},
   "outputs": [],
   "source": [
    "dataTrain_autoPatternExtractionAgent = DataAutoPatternExtractionAgent(data_loader.data_train, state_mode, 'action_encoder_decoder', device, GAMMA, n_step, BATCH_SIZE, window_size, transaction_cost)\n",
    "dataTest_autoPatternExtractionAgent = DataAutoPatternExtractionAgent(data_loader.data_test, state_mode, 'action_encoder_decoder', device, GAMMA, n_step, BATCH_SIZE, window_size, transaction_cost)\n",
    "dataTrain_patternBased = DataForPatternBasedAgent(data_loader.data_train, data_loader.patterns, 'action_deepRL', device, GAMMA, n_step, BATCH_SIZE, transaction_cost)\n",
    "dataTest_patternBased = DataForPatternBasedAgent(data_loader.data_test, data_loader.patterns, 'action_deepRL', device, GAMMA, n_step, BATCH_SIZE, transaction_cost)"
   ]
  },
  {
   "cell_type": "markdown",
   "metadata": {},
   "source": [
    "As discussed before, when `state_mode` is set to 4, the observation space has the trend, length of the body, upper and lower shadow of the candle. Therefore, we call this `state_mode` as candle representation because it contains a representation of the candle stick, not its original data."
   ]
  },
  {
   "cell_type": "code",
   "execution_count": 9,
   "metadata": {},
   "outputs": [],
   "source": [
    "state_mode = 4  # trend + %body + %upper-shadow + %lower-shadow\n",
    "\n",
    "dataTrain_autoPatternExtractionAgent_candle_rep = DataAutoPatternExtractionAgent(data_loader.data_train, state_mode, 'action_encoder_decoder', device, GAMMA, n_step, BATCH_SIZE, window_size, transaction_cost)\n",
    "dataTest_autoPatternExtractionAgent_candle_rep = DataAutoPatternExtractionAgent(data_loader.data_test, state_mode, 'action_encoder_decoder', device, GAMMA, n_step, BATCH_SIZE, window_size, transaction_cost)"
   ]
  },
  {
   "cell_type": "markdown",
   "metadata": {},
   "source": [
    "The following blocks are for loading windowed input for non-timeseries models. As we discussed above, the `state_mode` is 5 in this case and you should provide the window-size in this case. "
   ]
  },
  {
   "cell_type": "code",
   "execution_count": 10,
   "metadata": {},
   "outputs": [],
   "source": [
    "state_mode = 5  # window with k candles inside + the trend of those candles\n",
    "window_size = 20\n",
    "dataTrain_autoPatternExtractionAgent_windowed = DataAutoPatternExtractionAgent(data_loader.data_train, state_mode, 'action_encoder_decoder', device, GAMMA, n_step, BATCH_SIZE, window_size, transaction_cost)\n",
    "dataTest_autoPatternExtractionAgent_windowed = DataAutoPatternExtractionAgent(data_loader.data_test, state_mode, 'action_encoder_decoder', device, GAMMA, n_step, BATCH_SIZE, window_size, transaction_cost)"
   ]
  },
  {
   "cell_type": "markdown",
   "metadata": {},
   "source": [
    "This block is for loading the data for encoder-decoder models with time-series encoder. The `window_size` here is the number of candles inside one single time-step."
   ]
  },
  {
   "cell_type": "code",
   "execution_count": 11,
   "metadata": {},
   "outputs": [],
   "source": [
    "window_size = 15\n",
    "\n",
    "dataTrain_sequential = DataSequential(data_loader.data_train,\n",
    "                           'action_encoder_decoder', device, GAMMA,\n",
    "                           n_step, BATCH_SIZE, window_size, transaction_cost)\n",
    "dataTest_sequential = DataSequential(data_loader.data_test,\n",
    "                          'action_encoder_decoder', device, GAMMA,\n",
    "                          n_step, BATCH_SIZE, window_size, transaction_cost)  "
   ]
  },
  {
   "cell_type": "markdown",
   "metadata": {},
   "source": [
    "## Reinforcement Learning Agent"
   ]
  },
  {
   "cell_type": "markdown",
   "metadata": {},
   "source": [
    "This section is for running the experiments for RL agent with n-step SARSA algorithm. The following block is for setting the HPs for this algorithm."
   ]
  },
  {
   "cell_type": "code",
   "execution_count": null,
   "metadata": {},
   "outputs": [],
   "source": [
    "num_iteration = 1000\n",
    "gamma = 0.9\n",
    "alpha = 0.3\n",
    "epsilon = 0.1\n",
    "n = 10"
   ]
  },
  {
   "cell_type": "markdown",
   "metadata": {},
   "source": [
    "For the following block, if you want the agent to learn a new policy, uncomment the two lines:\n",
    "```\n",
    "rlAgent.training()\n",
    "rlAgent.write_to_file()\n",
    "```\n",
    "but if you want to load a trained model, comment out the above two lines and instead use the function:\n",
    "```\n",
    "rlAgent.read_from_file(<file name inside the ./Objects/RLAgent directory>)\n",
    "```\n"
   ]
  },
  {
   "cell_type": "code",
   "execution_count": null,
   "metadata": {},
   "outputs": [],
   "source": [
    "# Read RL Agent experiment\n",
    "data_test_rlagent = dataTest_patternBased.data if dataTest_patternBased is not None else None\n",
    "\n",
    "rlAgent = RLTrain(dataTrain_patternBased.data, data_test_rlagent, data_loader.patterns, DATASET_NAME, n=n, num_iteration=num_iteration, gamma=gamma, alpha=alpha, epsilon=epsilon)\n",
    "\n",
    "rlAgent.training()\n",
    "rlAgent.write_to_file()\n",
    "\n",
    "# rlAgent.read_from_file('GOOGL-TRAIN_TEST_SPLIT(True)-NUM_ITERATIONS10000-N_STEP10-GAMMA1-ALPHA0.1-EPSILON0.1-EXPERIMENT(1).pkl')\n",
    "# rlAgent.read_from_file('AAPL-TRAIN_TEST_SPLIT(True)-NUM_ITERATIONS1000-N_STEP10-GAMMA1-ALPHA0.1-EPSILON0.1-EXPERIMENT.pkl')\n",
    "# rlAgent.read_from_file('BTC-USD-TRAIN_TEST_SPLIT(True)-NUM_ITERATIONS10000-N_STEP10-GAMMA0.9-ALPHA0.1-EPSILON0.1-EXPERIMENT.pkl')\n",
    "# rlAgent.read_from_file('KSS-TRAIN_TEST_SPLIT(True)-NUM_ITERATIONS10000-N_STEP10-GAMMA0.9-ALPHA0.1-EPSILON0.1-EXPERIMENT(1).pkl')\n",
    "\n",
    "ev_rlAgent = rlAgent.test(test_type= 'train')\n",
    "print('train')\n",
    "ev_rlAgent.evaluate()\n",
    "rlAgent_portfolio_train = ev_rlAgent.get_daily_portfolio_value()\n",
    "ev_rlAgent = rlAgent.test(test_type= 'test')\n",
    "print('test')\n",
    "ev_rlAgent.evaluate()\n",
    "rlAgent_portfolio_test = ev_rlAgent.get_daily_portfolio_value()\n",
    "\n",
    "model_kind = f'RL'\n",
    "# model_kind = f'RL-{n}'\n",
    "\n",
    "add_train_portfo(model_kind, rlAgent_portfolio_train)\n",
    "add_test_portfo(model_kind, rlAgent_portfolio_test)"
   ]
  },
  {
   "cell_type": "markdown",
   "metadata": {},
   "source": [
    "## Deep Reinforcement Learning Agent "
   ]
  },
  {
   "cell_type": "markdown",
   "metadata": {},
   "source": [
    "This section dedicates to the Deep Q-Learning agent without encoder part. `TARGET_UPDATE` is how frequent the policy network is hard-copied to the target network in terms of number of episodes. `n_actions` is set to 3 because we have `buy`, `sell` and `none` actions. `n_episodes` is the number of episodes to run the algorithm. `EPS` is the $\\epsilon$ in the $\\epsilon$-greedy method. "
   ]
  },
  {
   "cell_type": "code",
   "execution_count": 12,
   "metadata": {},
   "outputs": [],
   "source": [
    "EPS=0.1\n",
    "ReplayMemorySize=20\n",
    "TARGET_UPDATE=5\n",
    "n_actions=3\n",
    "n_episodes = 5"
   ]
  },
  {
   "cell_type": "markdown",
   "metadata": {},
   "source": [
    "In the following bocks, each block is for running the DQN algorithm in a specific condition. For each block, if you want to train from scratch, use the following two lines:\n",
    "```\n",
    "deepRLAgent.train(n_episodes)\n",
    "file_name = None\n",
    "```\n",
    "pay attention that the `file_name` should be set to `None` so that for the evaluation process, it does not load from file and instead use the recently trained agent. If you want to load from a specific model, set the `file_name` to the name of the file inside the `./Objects/DeepRL` directory."
   ]
  },
  {
   "cell_type": "markdown",
   "metadata": {},
   "source": [
    "#### Patterns as input"
   ]
  },
  {
   "cell_type": "markdown",
   "metadata": {},
   "source": [
    "This model uses the extracted patterns as observation space. These patterns are extracted in the preprocessing phase and used here instead of directly applying OHLC."
   ]
  },
  {
   "cell_type": "code",
   "execution_count": null,
   "metadata": {},
   "outputs": [],
   "source": [
    "deepRLAgent = DeepRL(data_loader, dataTrain_patternBased, dataTest_patternBased, DATASET_NAME, \n",
    "                     state_mode, window_size, transaction_cost,\n",
    "                    BATCH_SIZE=BATCH_SIZE, GAMMA=GAMMA, ReplayMemorySize=ReplayMemorySize,\n",
    "                    TARGET_UPDATE=TARGET_UPDATE, n_step=n_step)\n",
    "\n",
    "deepRLAgent.train(n_episodes)\n",
    "file_name = None\n",
    "\n",
    "# file_name = 'GOOGL; DATA_KIND(PatternBased); BEGIN_DATE(None); END_DATE(None); SPLIT_POINT(2018-01-01); DeepRL; TransactionCost(0.0) TRAIN_TEST_SPLIT(True); BATCH_SIZE10; GAMMA0.7; EPSILON0.1; REPLAY_MEMORY_SIZE20; C5; N_SARSA10; EXPERIMENT(1).pkl'\n",
    "# file_name = 'AAPL; DATA_KIND(PatternBased); BEGIN_DATE(None); END_DATE(None); SPLIT_POINT(2018-01-01); DeepRL; TransactionCost(0.0) TRAIN_TEST_SPLIT(True); BATCH_SIZE10; GAMMA0.7; EPSILON0.1; REPLAY_MEMORY_SIZE20; C5; N_SARSA10; EXPERIMENT(1).pkl'\n",
    "# file_name = 'BTC-USD; DATA_KIND(PatternBased); BEGIN_DATE(None); END_DATE(None); SPLIT_POINT(2018-01-01); DeepRL; TransactionCost(0.0) TRAIN_TEST_SPLIT(True); BATCH_SIZE10; GAMMA0.7; EPSILON0.1; REPLAY_MEMORY_SIZE20; C5; N_SARSA10; EXPERIMENT(1).pkl'\n",
    "# file_name = 'KSS; DATA_KIND(PatternBased); BEGIN_DATE(None); END_DATE(None); SPLIT_POINT(2018-01-01); DeepRL; TC(0.0); StateMode(1); WindowSize(20); BATCH_SIZE10; GAMMA0.7; EPS0.1; REPLAY_MEMORY_SIZE20; C5; N_SARSA10(1).pkl'\n",
    "\n",
    "ev_deepRLAgent = deepRLAgent.test(initial_investment=initial_investment, test_type='train')\n",
    "deepRLAgent_portfolio_train = ev_deepRLAgent.get_daily_portfolio_value()\n",
    "ev_deepRLAgent = deepRLAgent.test(initial_investment=initial_investment, test_type='test')\n",
    "deepRLAgent_portfolio_test = ev_deepRLAgent.get_daily_portfolio_value()\n",
    "\n",
    "model_kind = 'DQN-pattern'\n",
    "\n",
    "add_train_portfo(model_kind, deepRLAgent_portfolio_train)\n",
    "add_test_portfo(model_kind, deepRLAgent_portfolio_test)"
   ]
  },
  {
   "cell_type": "markdown",
   "metadata": {},
   "source": [
    "#### OHLC as input"
   ]
  },
  {
   "cell_type": "markdown",
   "metadata": {},
   "source": [
    "This model uses the OHLC representation of candles. "
   ]
  },
  {
   "cell_type": "code",
   "execution_count": 13,
   "metadata": {},
   "outputs": [
    {
     "name": "stdout",
     "output_type": "stream",
     "text": [
      "Training DeepRL ...\n"
     ]
    },
    {
     "name": "stderr",
     "output_type": "stream",
     "text": [
      "100%|██████████| 5/5 [00:18<00:00,  3.63s/it]\n"
     ]
    },
    {
     "name": "stdout",
     "output_type": "stream",
     "text": [
      "Complete\n",
      "train\n",
      "Historical VAR is -5.0\n",
      "Variance-Covariance VAR with 95% confidence is -5.656272786536109\n",
      "Variance-Covariance VAR with 99% confidence is -7.987342783411596\n",
      "##################################################\n",
      "Arithmetic Return: 325.9187581781331\n",
      "##################################################\n",
      "Average daily return: 0.5958295396309569\n",
      "##################################################\n",
      "Daily return variance (return type: Arithmetic): 11.751486441031757\n",
      "##################################################\n",
      "Daily return variance (return type: Logarithmic): 11.594846769544038\n",
      "##################################################\n",
      "Time weighted return: 0.005376449594833632\n",
      "##################################################\n",
      "Total Return: 1778.465481004438 %\n",
      "##################################################\n",
      "Sharp Ratio: 3.3236815224647733\n",
      "##################################################\n",
      "Value at Risk (Monte Carlo method): -5.049309153630293\n",
      "##################################################\n",
      "Volatility: 80.17520242097535\n",
      "##################################################\n",
      "Initial Investment: 1000\n",
      "##################################################\n",
      "Final Portfolio Value: 18784.65481004438\n",
      "##################################################\n",
      "326 & 0.60 & 11.75 & 0.005 & 1778 \\% & 3.324 & -5.05 & 80.2 & 1000 & 18784.7 \\\\\n",
      "test\n",
      "Historical VAR is -4.85\n",
      "Variance-Covariance VAR with 95% confidence is -4.562872256485279\n",
      "Variance-Covariance VAR with 99% confidence is -6.443328701582242\n",
      "##################################################\n",
      "Arithmetic Return: 69.53220862905845\n",
      "##################################################\n",
      "Average daily return: 0.3778924382014045\n",
      "##################################################\n",
      "Daily return variance (return type: Arithmetic): 7.647310644261914\n",
      "##################################################\n",
      "Daily return variance (return type: Logarithmic): 7.4201600516632995\n",
      "##################################################\n",
      "Time weighted return: 0.0034059632472704937\n",
      "##################################################\n",
      "Total Return: 86.94278113276748 %\n",
      "##################################################\n",
      "Sharp Ratio: 2.6178432249219483\n",
      "##################################################\n",
      "Value at Risk (Monte Carlo method): -4.1759980298832335\n",
      "##################################################\n",
      "Volatility: 37.51140038100674\n",
      "##################################################\n",
      "Initial Investment: 1000\n",
      "##################################################\n",
      "Final Portfolio Value: 1869.4278113276748\n",
      "##################################################\n",
      "70 & 0.38 & 7.65 & 0.003 & 87 \\% & 2.618 & -4.18 & 37.5 & 1000 & 1869.4 \\\\\n"
     ]
    }
   ],
   "source": [
    "deepRLAgent = DeepRL(data_loader, dataTrain_autoPatternExtractionAgent, dataTest_autoPatternExtractionAgent, \n",
    "                     DATASET_NAME,  state_mode, window_size, transaction_cost,\n",
    "                     BATCH_SIZE=BATCH_SIZE, GAMMA=GAMMA, ReplayMemorySize=ReplayMemorySize,\n",
    "                     TARGET_UPDATE=TARGET_UPDATE, n_step=n_step)\n",
    "\n",
    "deepRLAgent.train(n_episodes)\n",
    "file_name = None\n",
    "\n",
    "# file_name = 'GOOGL; DATA_KIND(AutoPatternExtraction); BEGIN_DATE(None); END_DATE(None); SPLIT_POINT(2018-01-01); DeepRL; TransactionCost(0.0) TRAIN_TEST_SPLIT(True); BATCH_SIZE10; GAMMA0.7; EPSILON0.1; REPLAY_MEMORY_SIZE20; C5; N_SARSA10; EXPERIMENT(1).pkl'\n",
    "# file_name = 'AAPL; DATA_KIND(AutoPatternExtraction); BEGIN_DATE(None); END_DATE(None); SPLIT_POINT(2018-01-01); DeepRL; TransactionCost(0.0) TRAIN_TEST_SPLIT(True); BATCH_SIZE10; GAMMA0.7; EPSILON0.1; REPLAY_MEMORY_SIZE20; C5; N_SARSA10; EXPERIMENT(1).pkl'\n",
    "# file_name = 'BTC-USD; DATA_KIND(AutoPatternExtraction); BEGIN_DATE(None); END_DATE(None); SPLIT_POINT(2018-01-01); DeepRL; TransactionCost(0.0) TRAIN_TEST_SPLIT(True); BATCH_SIZE10; GAMMA0.7; EPSILON0.1; REPLAY_MEMORY_SIZE20; C5; N_SARSA10; EXPERIMENT(1).pkl'\n",
    "# file_name = 'KSS; DATA_KIND(AutoPatternExtraction); BEGIN_DATE(None); END_DATE(None); SPLIT_POINT(2018-01-01); DeepRL; TC(0.0); StateMode(1); WindowSize(20); BATCH_SIZE10; GAMMA0.7; EPS0.1; REPLAY_MEMORY_SIZE20; C5; N_SARSA10(1).pkl'\n",
    "# file_name = 'GE; DATA_KIND(AutoPatternExtraction); BEGIN_DATE(None); END_DATE(None); SPLIT_POINT(2015-01-01); DeepRL; TC(0); StateMode(1); WindowSize(15); BATCH_SIZE10; GAMMA0.7; EPS0.1; REPLAY_MEMORY_SIZE20; C5; N_SARSA10.pkl'\n",
    "# file_name = 'HSI; DATA_KIND(AutoPatternExtraction); BEGIN_DATE(None); END_DATE(None); SPLIT_POINT(2015-01-01); DeepRL; TC(0); StateMode(1); WindowSize(20); BATCH_SIZE10; GAMMA0.7; EPS0.1; REPLAY_MEMORY_SIZE20; C5; N_SARSA10.pkl'\n",
    "# file_name = 'AAL; DATA_KIND(AutoPatternExtraction); BEGIN_DATE(None); END_DATE(None); SPLIT_POINT(2018-01-01); DeepRL; TC(0); StateMode(1); WindowSize(10); BATCH_SIZE10; GAMMA0.7; EPS0.1; REPLAY_MEMORY_SIZE20; C5; N_SARSA10.pkl'\n",
    "\n",
    "ev_deepRLAgentAutoExtraction = deepRLAgent.test(initial_investment=initial_investment, test_type='train')\n",
    "print('train')\n",
    "ev_deepRLAgentAutoExtraction.evaluate()\n",
    "deepRLAgentAutoExtraction_portfolio_train = ev_deepRLAgentAutoExtraction.get_daily_portfolio_value()\n",
    "ev_deepRLAgentAutoExtraction = deepRLAgent.test(initial_investment=initial_investment, test_type='test')\n",
    "print('test')\n",
    "ev_deepRLAgentAutoExtraction.evaluate()\n",
    "deepRLAgentAutoExtraction_portfolio_test = ev_deepRLAgentAutoExtraction.get_daily_portfolio_value()\n",
    "\n",
    "model_kind = 'DQN-vanilla'\n",
    "# model_kind = 'DQN'\n",
    "\n",
    "add_train_portfo(model_kind, deepRLAgentAutoExtraction_portfolio_train)\n",
    "add_test_portfo(model_kind, deepRLAgentAutoExtraction_portfolio_test)"
   ]
  },
  {
   "cell_type": "markdown",
   "metadata": {},
   "source": [
    "#### With candle representation as input"
   ]
  },
  {
   "cell_type": "markdown",
   "metadata": {},
   "source": [
    "This model uses the `state_mode = 4` as input."
   ]
  },
  {
   "cell_type": "code",
   "execution_count": null,
   "metadata": {},
   "outputs": [],
   "source": [
    "deepRLAgent = DeepRL(data_loader, dataTrain_autoPatternExtractionAgent_candle_rep, \n",
    "                     dataTest_autoPatternExtractionAgent_candle_rep, \n",
    "                     DATASET_NAME,  state_mode, window_size, transaction_cost,\n",
    "                     BATCH_SIZE=BATCH_SIZE, GAMMA=GAMMA, ReplayMemorySize=ReplayMemorySize,\n",
    "                     TARGET_UPDATE=TARGET_UPDATE, n_step=n_step)\n",
    "\n",
    "deepRLAgent.train(n_episodes)\n",
    "file_name = None\n",
    "\n",
    "# file_name = 'GOOGL; DATA_KIND(AutoPatternExtraction); BEGIN_DATE(None); END_DATE(None); SPLIT_POINT(2018-01-01); DeepRL; TC(0); StateMode(4); WindowSize(3); BATCH_SIZE10; GAMMA0.7; EPS0.1; REPLAY_MEMORY_SIZE20; C5; N_SARSA10(1).pkl'\n",
    "# file_name = 'BTC-USD; DATA_KIND(AutoPatternExtraction); BEGIN_DATE(None); END_DATE(None); SPLIT_POINT(2018-01-01); DeepRL; TC(0.0); StateMode(4); WindowSize(20); BATCH_SIZE10; GAMMA0.7; EPS0.1; REPLAY_MEMORY_SIZE20; C5; N_SARSA10(1).pkl'\n",
    "# file_name = 'AAPL; DATA_KIND(AutoPatternExtraction); BEGIN_DATE(2010-01-01); END_DATE(2020-08-24); SPLIT_POINT(2018-01-01); DeepRL; TC(0); StateMode(4); WindowSize(20); BATCH_SIZE10; GAMMA0.7; EPS0.1; REPLAY_MEMORY_SIZE20; C5; N_SARSA10(1).pkl'\n",
    "# file_name = 'KSS; DATA_KIND(AutoPatternExtraction); BEGIN_DATE(None); END_DATE(None); SPLIT_POINT(2018-01-01); DeepRL; TC(0.0); StateMode(4); WindowSize(3); BATCH_SIZE10; GAMMA0.7; EPS0.1; REPLAY_MEMORY_SIZE20; C5; N_SARSA10(1).pkl'\n",
    "\n",
    "ev_deepRLAgentAutoExtraction = deepRLAgent.test(initial_investment=initial_investment, test_type='train')\n",
    "deepRLAgentAutoExtraction_portfolio_train = ev_deepRLAgentAutoExtraction.get_daily_portfolio_value()\n",
    "ev_deepRLAgentAutoExtraction = deepRLAgent.test(initial_investment=initial_investment, test_type='test')\n",
    "deepRLAgentAutoExtraction_portfolio_test = ev_deepRLAgentAutoExtraction.get_daily_portfolio_value()\n",
    "\n",
    "model_kind = 'DQN-candle-rep'\n",
    "\n",
    "add_train_portfo(model_kind, deepRLAgentAutoExtraction_portfolio_train)\n",
    "add_test_portfo(model_kind, deepRLAgentAutoExtraction_portfolio_test)"
   ]
  },
  {
   "cell_type": "markdown",
   "metadata": {},
   "source": [
    "#### Windowed Input"
   ]
  },
  {
   "cell_type": "markdown",
   "metadata": {},
   "source": [
    "Input is a window of OHLC candles."
   ]
  },
  {
   "cell_type": "code",
   "execution_count": 14,
   "metadata": {},
   "outputs": [
    {
     "name": "stdout",
     "output_type": "stream",
     "text": [
      "Training DeepRL ...\n"
     ]
    },
    {
     "name": "stderr",
     "output_type": "stream",
     "text": [
      "100%|██████████| 5/5 [00:09<00:00,  1.91s/it]\n"
     ]
    },
    {
     "name": "stdout",
     "output_type": "stream",
     "text": [
      "Complete\n"
     ]
    }
   ],
   "source": [
    "deepRLAgent = DeepRL(data_loader, dataTrain_autoPatternExtractionAgent_windowed, \n",
    "                     dataTest_autoPatternExtractionAgent_windowed, \n",
    "                     DATASET_NAME,  state_mode, window_size, transaction_cost,\n",
    "                     BATCH_SIZE=BATCH_SIZE, GAMMA=GAMMA, ReplayMemorySize=ReplayMemorySize,\n",
    "                     TARGET_UPDATE=TARGET_UPDATE, n_step=n_step)\n",
    "\n",
    "deepRLAgent.train(n_episodes)\n",
    "file_name = None\n",
    "\n",
    "# file_name = 'AAPL; DATA_KIND(AutoPatternExtraction); BEGIN_DATE(2010-01-01); END_DATE(2020-08-24); SPLIT_POINT(2018-01-01); DeepRL; TC(0); StateMode(5); WindowSize(3); BATCH_SIZE10; GAMMA0.7; EPS0.1; REPLAY_MEMORY_SIZE20; C5; N_SARSA10(1).pkl'\n",
    "# file_name = 'BTC-USD; DATA_KIND(AutoPatternExtraction); BEGIN_DATE(None); END_DATE(None); SPLIT_POINT(2018-01-01); DeepRL; TC(0.0); StateMode(5); WindowSize(3); BATCH_SIZE10; GAMMA0.7; EPS0.1; REPLAY_MEMORY_SIZE20; C5; N_SARSA10(1).pkl'\n",
    "# file_name = 'GOOGL; DATA_KIND(AutoPatternExtraction); BEGIN_DATE(None); END_DATE(None); SPLIT_POINT(2018-01-01); DeepRL; TC(0); StateMode(5); WindowSize(3); BATCH_SIZE10; GAMMA0.7; EPS0.1; REPLAY_MEMORY_SIZE20; C5; N_SARSA10(1).pkl'\n",
    "# file_name = 'KSS; DATA_KIND(AutoPatternExtraction); BEGIN_DATE(None); END_DATE(None); SPLIT_POINT(2018-01-01); DeepRL; TC(0.0); StateMode(5); WindowSize(3); BATCH_SIZE10; GAMMA0.7; EPS0.1; REPLAY_MEMORY_SIZE20; C5; N_SARSA10(1).pkl'\n",
    "\n",
    "# file_name = 'BTC-USD; DATA_KIND(AutoPatternExtraction); BEGIN_DATE(None); END_DATE(None); SPLIT_POINT(2018-01-01); DeepRL; TC(0.0); StateMode(5); WindowSize(20); BATCH_SIZE10; GAMMA0.7; EPS0.1; REPLAY_MEMORY_SIZE20; C5; N_SARSA10.pkl'\n",
    "# file_name = 'GOOGL; DATA_KIND(AutoPatternExtraction); BEGIN_DATE(None); END_DATE(None); SPLIT_POINT(2018-01-01); DeepRL; TC(0); StateMode(5); WindowSize(20); BATCH_SIZE10; GAMMA0.7; EPS0.1; REPLAY_MEMORY_SIZE20; C5; N_SARSA10(1).pkl'\n",
    "# file_name = 'AAPL; DATA_KIND(AutoPatternExtraction); BEGIN_DATE(2010-01-01); END_DATE(2020-08-24); SPLIT_POINT(2018-01-01); DeepRL; TC(0); StateMode(5); WindowSize(20); BATCH_SIZE10; GAMMA0.7; EPS0.1; REPLAY_MEMORY_SIZE20; C5; N_SARSA10.pkl'\n",
    "# file_name = 'KSS; DATA_KIND(AutoPatternExtraction); BEGIN_DATE(None); END_DATE(None); SPLIT_POINT(2018-01-01); DeepRL; TC(0.0); StateMode(5); WindowSize(20); BATCH_SIZE10; GAMMA0.7; EPS0.1; REPLAY_MEMORY_SIZE20; C5; N_SARSA10(1).pkl'\n",
    "# file_name = 'GE; DATA_KIND(AutoPatternExtraction); BEGIN_DATE(None); END_DATE(None); SPLIT_POINT(2015-01-01); DeepRL; TC(0); StateMode(5); WindowSize(15); BATCH_SIZE10; GAMMA0.7; EPS0.1; REPLAY_MEMORY_SIZE20; C5; N_SARSA10.pkl'\n",
    "# file_name = 'HSI; DATA_KIND(AutoPatternExtraction); BEGIN_DATE(None); END_DATE(None); SPLIT_POINT(2015-01-01); DeepRL; TC(0); StateMode(5); WindowSize(15); BATCH_SIZE10; GAMMA0.7; EPS0.1; REPLAY_MEMORY_SIZE20; C5; N_SARSA10.pkl'\n",
    "# file_name = 'AAL; DATA_KIND(AutoPatternExtraction); BEGIN_DATE(None); END_DATE(None); SPLIT_POINT(2018-01-01); DeepRL; TC(0); StateMode(5); WindowSize(10); BATCH_SIZE10; GAMMA0.7; EPS0.1; REPLAY_MEMORY_SIZE20; C5; N_SARSA10.pkl'\n",
    "\n",
    "ev_deepRLAgentAutoExtraction = deepRLAgent.test(initial_investment=initial_investment, test_type='train')\n",
    "deepRLAgentAutoExtraction_portfolio_train = ev_deepRLAgentAutoExtraction.get_daily_portfolio_value()\n",
    "ev_deepRLAgentAutoExtraction = deepRLAgent.test(initial_investment=initial_investment, test_type='test')\n",
    "deepRLAgentAutoExtraction_portfolio_test = ev_deepRLAgentAutoExtraction.get_daily_portfolio_value()\n",
    "\n",
    "model_kind = 'DQN-windowed'\n",
    "\n",
    "add_train_portfo(model_kind, deepRLAgentAutoExtraction_portfolio_train)\n",
    "add_test_portfo(model_kind, deepRLAgentAutoExtraction_portfolio_test)"
   ]
  },
  {
   "cell_type": "markdown",
   "metadata": {},
   "source": [
    "#### Test Window Size"
   ]
  },
  {
   "cell_type": "markdown",
   "metadata": {},
   "source": [
    "The following block is for testing the effect of window-size in the input representation on the performance of the model. Here we assume that we have a set of pretrained models in the `./Objects/DeepRL` directory. If you do not have these pretrained models, you should train from scratch and set `file_name = None`. The set of window sizes that are being tested in the experiments are in `window_sizes` list."
   ]
  },
  {
   "cell_type": "code",
   "execution_count": 41,
   "metadata": {},
   "outputs": [
    {
     "name": "stderr",
     "output_type": "stream",
     "text": [
      "  0%|          | 0/7 [00:00<?, ?it/s]"
     ]
    },
    {
     "name": "stdout",
     "output_type": "stream",
     "text": [
      "Training DeepRL ...\n"
     ]
    },
    {
     "name": "stderr",
     "output_type": "stream",
     "text": [
      "100%|██████████| 5/5 [00:15<00:00,  3.12s/it]\n"
     ]
    },
    {
     "name": "stdout",
     "output_type": "stream",
     "text": [
      "Complete\n"
     ]
    },
    {
     "name": "stderr",
     "output_type": "stream",
     "text": [
      " 14%|█▍        | 1/7 [00:16<01:39, 16.51s/it]"
     ]
    },
    {
     "name": "stdout",
     "output_type": "stream",
     "text": [
      "Training DeepRL ...\n"
     ]
    },
    {
     "name": "stderr",
     "output_type": "stream",
     "text": [
      "100%|██████████| 5/5 [00:14<00:00,  2.99s/it]\n"
     ]
    },
    {
     "name": "stdout",
     "output_type": "stream",
     "text": [
      "Complete\n"
     ]
    },
    {
     "name": "stderr",
     "output_type": "stream",
     "text": [
      " 29%|██▊       | 2/7 [00:32<01:20, 16.13s/it]"
     ]
    },
    {
     "name": "stdout",
     "output_type": "stream",
     "text": [
      "Training DeepRL ...\n"
     ]
    },
    {
     "name": "stderr",
     "output_type": "stream",
     "text": [
      "100%|██████████| 5/5 [00:14<00:00,  2.93s/it]\n"
     ]
    },
    {
     "name": "stdout",
     "output_type": "stream",
     "text": [
      "Complete\n"
     ]
    },
    {
     "name": "stderr",
     "output_type": "stream",
     "text": [
      " 43%|████▎     | 3/7 [00:47<01:03, 15.88s/it]"
     ]
    },
    {
     "name": "stdout",
     "output_type": "stream",
     "text": [
      "Training DeepRL ...\n"
     ]
    },
    {
     "name": "stderr",
     "output_type": "stream",
     "text": [
      "100%|██████████| 5/5 [00:14<00:00,  2.93s/it]\n"
     ]
    },
    {
     "name": "stdout",
     "output_type": "stream",
     "text": [
      "Complete\n"
     ]
    },
    {
     "name": "stderr",
     "output_type": "stream",
     "text": [
      " 57%|█████▋    | 4/7 [01:03<00:47, 15.77s/it]"
     ]
    },
    {
     "name": "stdout",
     "output_type": "stream",
     "text": [
      "Training DeepRL ...\n"
     ]
    },
    {
     "name": "stderr",
     "output_type": "stream",
     "text": [
      "100%|██████████| 5/5 [00:14<00:00,  2.86s/it]\n"
     ]
    },
    {
     "name": "stdout",
     "output_type": "stream",
     "text": [
      "Complete\n"
     ]
    },
    {
     "name": "stderr",
     "output_type": "stream",
     "text": [
      " 71%|███████▏  | 5/7 [01:18<00:31, 15.60s/it]"
     ]
    },
    {
     "name": "stdout",
     "output_type": "stream",
     "text": [
      "Training DeepRL ...\n"
     ]
    },
    {
     "name": "stderr",
     "output_type": "stream",
     "text": [
      "100%|██████████| 5/5 [00:13<00:00,  2.80s/it]\n"
     ]
    },
    {
     "name": "stdout",
     "output_type": "stream",
     "text": [
      "Complete\n"
     ]
    },
    {
     "name": "stderr",
     "output_type": "stream",
     "text": [
      " 86%|████████▌ | 6/7 [01:33<00:15, 15.44s/it]"
     ]
    },
    {
     "name": "stdout",
     "output_type": "stream",
     "text": [
      "Training DeepRL ...\n"
     ]
    },
    {
     "name": "stderr",
     "output_type": "stream",
     "text": [
      "100%|██████████| 5/5 [00:14<00:00,  2.84s/it]\n"
     ]
    },
    {
     "name": "stdout",
     "output_type": "stream",
     "text": [
      "Complete\n"
     ]
    },
    {
     "name": "stderr",
     "output_type": "stream",
     "text": [
      "100%|██████████| 7/7 [01:49<00:00, 15.58s/it]\n"
     ]
    }
   ],
   "source": [
    "n_classes = 64\n",
    "state_mode = 5\n",
    "\n",
    "for window_size in tqdm(window_sizes):\n",
    "    \n",
    "    dataTrain_autoPatternExtractionAgent_windowed = DataAutoPatternExtractionAgent(data_loader.data_train, state_mode, 'action_encoder_decoder', device, GAMMA, n_step, BATCH_SIZE, window_size, transaction_cost)\n",
    "    dataTest_autoPatternExtractionAgent_windowed = DataAutoPatternExtractionAgent(data_loader.data_test, state_mode, 'action_encoder_decoder', device, GAMMA, n_step, BATCH_SIZE, window_size, transaction_cost)\n",
    "    \n",
    "    deepRLAgent = DeepRL(data_loader, dataTrain_autoPatternExtractionAgent_windowed, \n",
    "                         dataTest_autoPatternExtractionAgent_windowed, \n",
    "                         DATASET_NAME,  state_mode, window_size, transaction_cost,\n",
    "                         BATCH_SIZE=BATCH_SIZE, GAMMA=GAMMA, ReplayMemorySize=ReplayMemorySize,\n",
    "                         TARGET_UPDATE=TARGET_UPDATE, n_step=n_step)\n",
    "\n",
    "  \n",
    "    file_name = None\n",
    "    deepRLAgent.train(n_episodes)\n",
    "    \n",
    "#     file_name = f'GOOGL; DATA_KIND(AutoPatternExtraction); BEGIN_DATE(None); END_DATE(None); SPLIT_POINT(2018-01-01); DeepRL; TC(0.0); StateMode(4); WindowSize({window_size}); BATCH_SIZE10; GAMMA0.7; EPS0.1; REPLAY_MEMORY_SIZE20; C5; N_SARSA10(1).pkl'\n",
    "\n",
    "\n",
    "    ev_deepRLAgentAutoExtraction = deepRLAgent.test(initial_investment=initial_investment, test_type='train')\n",
    "    deepRLAgentAutoExtraction_portfolio_train = ev_deepRLAgentAutoExtraction.get_daily_portfolio_value()\n",
    "    ev_deepRLAgentAutoExtraction = deepRLAgent.test(initial_investment=initial_investment, test_type='test')\n",
    "    deepRLAgentAutoExtraction_portfolio_test = ev_deepRLAgentAutoExtraction.get_daily_portfolio_value()\n",
    "\n",
    "    model_kind = 'DQN-windowed'\n",
    "\n",
    "    add_train_portfo(model_kind, deepRLAgentAutoExtraction_portfolio_train)\n",
    "    add_test_portfo(model_kind, deepRLAgentAutoExtraction_portfolio_test)\n",
    "    \n",
    "    if model_kind not in window_size_experiment.keys():\n",
    "        window_size_experiment[model_kind] = {}\n",
    "\n",
    "    window_size_experiment[model_kind][window_size] = \\\n",
    "        ((test_portfolios[model_kind][-1] - test_portfolios[model_kind][0])/test_portfolios[model_kind][0] * 100)"
   ]
  },
  {
   "cell_type": "markdown",
   "metadata": {},
   "source": [
    "## Encoder Decoder models"
   ]
  },
  {
   "cell_type": "markdown",
   "metadata": {},
   "source": [
    "This section dedicates to the Deep Q-Learning agent with encoder. `TARGET_UPDATE` is how frequent the policy network is hard-copied to the target network in terms of number of episodes. `n_actions` is set to 3 because we have `buy`, `sell` and `none` actions. `n_episodes` is the number of episodes to run the algorithm. `EPS` is the $\\epsilon$ in the $\\epsilon$-greedy method. Decoder models include: MLP, 1-layerd 1d CNN, 1-layerd 2d CNN, two layered 1d CNN, GRU, CNN-GRU, CNN-Attn (CNN with an attention layer). For details about these models, please refer to the paper and README file.   "
   ]
  },
  {
   "cell_type": "code",
   "execution_count": null,
   "metadata": {},
   "outputs": [],
   "source": [
    "BATCH_SIZE = 10\n",
    "EPS = 0.1\n",
    "# EPS_START = 0.9\n",
    "# EPS_END = 0.05\n",
    "# EPS_DECAY = 200\n",
    "\n",
    "ReplayMemorySize = 20\n",
    "\n",
    "TARGET_UPDATE = 5\n",
    "n_actions = 3\n",
    "# window_size = 20\n",
    "\n",
    "num_episodes = 1"
   ]
  },
  {
   "cell_type": "markdown",
   "metadata": {},
   "source": [
    "In the following bocks, each block is for running the DQN algorithm in a specific condition. For each block, if you want to train from scratch, use the following two lines:\n",
    "```\n",
    "<name of the agent>.train(n_episodes)\n",
    "file_name = None\n",
    "```\n",
    "pay attention that the `file_name` should be set to `None` so that for the evaluation process, it does not load from file and instead use the recently trained agent. If you want to load from a specific model, set the `file_name` to the name of the file inside the `./Objects/<agent name>` directory."
   ]
  },
  {
   "cell_type": "markdown",
   "metadata": {},
   "source": [
    "### Simple MLP"
   ]
  },
  {
   "cell_type": "markdown",
   "metadata": {},
   "source": [
    "This model uses MLP as encoder with alternative input representation as below: "
   ]
  },
  {
   "cell_type": "markdown",
   "metadata": {},
   "source": [
    "#### Pattern Input"
   ]
  },
  {
   "cell_type": "markdown",
   "metadata": {},
   "source": [
    "This model uses the extracted patterns as observation space. These patterns are extracted in the preprocessing phase and used here instead of directly applying OHLC."
   ]
  },
  {
   "cell_type": "code",
   "execution_count": null,
   "metadata": {
    "pycharm": {
     "name": "#%%\n"
    }
   },
   "outputs": [],
   "source": [
    "n_classes = 64\n",
    "\n",
    "simpleMLP = SimpleMLP(data_loader, dataTrain_patternBased, dataTest_patternBased, DATASET_NAME, \n",
    "                    state_mode, window_size, transaction_cost, n_classes, BATCH_SIZE=BATCH_SIZE, GAMMA=GAMMA, EPS=EPS,\n",
    "                    ReplayMemorySize=ReplayMemorySize, TARGET_UPDATE=TARGET_UPDATE, n_actions=n_actions, n_step=n_step)\n",
    "\n",
    "simpleMLP.train(num_episodes)\n",
    "file_name = None\n",
    "\n",
    "# file_name = 'BTC-USD; DATA_KIND(PatternBased); BEGIN_DATE(None); END_DATE(None); SPLIT_POINT(2018-01-01); MLP; TransactionCost(0.0); StateMode(1); WindowSize(3); BATCH_SIZE10; GAMMA0.7; EPSILON0.1; REPLAY_MEMORY_SIZE20; C5; N_SARSA10; EXPERIMENT(1).pkl'\n",
    "# file_name = 'GOOGL; DATA_KIND(PatternBased); BEGIN_DATE(None); END_DATE(None); SPLIT_POINT(2018-01-01); MLP; TC(0.0); StateMode(1); WindowSize(3); BATCH_SIZE10; GAMMA0.7; EPS0.1; REPLAY_MEMORY_SIZE20; C5; N_SARSA10(1).pkl'\n",
    "# file_name = 'AAPL; DATA_KIND(PatternBased); BEGIN_DATE(2010-01-01); END_DATE(2020-08-24); SPLIT_POINT(2018-01-01); MLP; TC(0.0); StateMode(1); WindowSize(3); BATCH_SIZE10; GAMMA0.7; EPS0.1; REPLAY_MEMORY_SIZE20; C5; N_SARSA10(1).pkl'\n",
    "# file_name = 'KSS; DATA_KIND(PatternBased); BEGIN_DATE(None); END_DATE(None); SPLIT_POINT(2018-01-01); MLP; TC(0.0); StateMode(1); WindowSize(3); BATCH_SIZE10; GAMMA0.7; EPS0.1; REPLAY_MEMORY_SIZE20; C5; N_SARSA10(1).pkl'\n",
    "\n",
    "ev_simpleMLP = simpleMLP.test(file_name=file_name, action_name=dataTrain_patternBased.action_name,\n",
    "                                  initial_investment=initial_investment, test_type='train')\n",
    "simpleMLP_portfolio_train = ev_simpleMLP.get_daily_portfolio_value()\n",
    "ev_simpleMLP = simpleMLP.test(file_name=file_name, action_name=dataTrain_patternBased.action_name,\n",
    "                                  initial_investment=initial_investment, test_type='test')\n",
    "simpleMLP_portfolio_test = ev_simpleMLP.get_daily_portfolio_value()\n",
    "\n",
    "model_kind = 'MLP-pattern'\n",
    "\n",
    "add_train_portfo(model_kind, simpleMLP_portfolio_train)\n",
    "add_test_portfo(model_kind, simpleMLP_portfolio_test)\n"
   ]
  },
  {
   "cell_type": "markdown",
   "metadata": {},
   "source": [
    "#### OHLC input"
   ]
  },
  {
   "cell_type": "markdown",
   "metadata": {},
   "source": [
    "This model uses the OHLC representation of candles. "
   ]
  },
  {
   "cell_type": "code",
   "execution_count": null,
   "metadata": {
    "pycharm": {
     "name": "#%%\n"
    }
   },
   "outputs": [],
   "source": [
    "n_classes = 64\n",
    "\n",
    "simpleMLP = SimpleMLP(data_loader, dataTrain_autoPatternExtractionAgent, dataTest_autoPatternExtractionAgent, DATASET_NAME, \n",
    "                    state_mode, window_size, transaction_cost, n_classes, BATCH_SIZE=BATCH_SIZE, GAMMA=GAMMA, EPS=EPS,\n",
    "                    ReplayMemorySize=ReplayMemorySize, TARGET_UPDATE=TARGET_UPDATE, n_actions=n_actions, n_step=n_step)\n",
    "\n",
    "simpleMLP.train(num_episodes)\n",
    "file_name = None\n",
    "\n",
    "# file_name = 'GOOGL; MLP; StateMode(1); WindowSize(20); TRAIN_TEST_SPLIT(True); BATCH_SIZE10; GAMMA0.7; EPSILON0.1; REPLAY_MEMORY_SIZE20; C5; N_SARSA10; EXPERIMENT.pkl'\n",
    "# file_name = 'AAPL; MLP; StateMode(1); WindowSize(20); TRAIN_TEST_SPLIT(True); BATCH_SIZE10; GAMMA0.7; EPSILON0.1; REPLAY_MEMORY_SIZE20; C5; N_SARSA10; EXPERIMENT.pkl'\n",
    "# file_name = 'KSS; DATA_KIND(AutoPatternExtraction); BEGIN_DATE(None); END_DATE(None); SPLIT_POINT(2018-01-01); MLP; TC(0.0); StateMode(1); WindowSize(3); BATCH_SIZE10; GAMMA0.7; EPS0.1; REPLAY_MEMORY_SIZE20; C5; N_SARSA10(1).pkl'\n",
    "# file_name = 'BTC-USD; MLP; StateMode(1); WindowSize(20); TRAIN_TEST_SPLIT(True); BATCH_SIZE10; GAMMA0.7; EPSILON0.1; REPLAY_MEMORY_SIZE20; C5; N_SARSA10; EXPERIMENT.pkl'\n",
    "# file_name = 'GE; DATA_KIND(AutoPatternExtraction); BEGIN_DATE(None); END_DATE(None); SPLIT_POINT(2015-01-01); MLP; TC(0); StateMode(1); WindowSize(20); BATCH_SIZE10; GAMMA0.7; EPS0.1; REPLAY_MEMORY_SIZE20; C5; N_SARSA10.pkl'\n",
    "# file_name = 'HSI; DATA_KIND(AutoPatternExtraction); BEGIN_DATE(None); END_DATE(None); SPLIT_POINT(2015-01-01); MLP; TC(0); StateMode(1); WindowSize(20); BATCH_SIZE10; GAMMA0.7; EPS0.1; REPLAY_MEMORY_SIZE20; C5; N_SARSA10.pkl'\n",
    "# file_name = 'AAL; DATA_KIND(AutoPatternExtraction); BEGIN_DATE(None); END_DATE(None); SPLIT_POINT(2018-01-01); MLP; TC(0); StateMode(1); WindowSize(15); BATCH_SIZE10; GAMMA0.7; EPS0.1; REPLAY_MEMORY_SIZE20; C5; N_SARSA10.pkl'\n",
    "\n",
    "ev_simpleMLP = simpleMLP.test(file_name=file_name, action_name=dataTrain_autoPatternExtractionAgent.action_name,\n",
    "                                  initial_investment=initial_investment, test_type='train')\n",
    "simpleMLP_portfolio_train = ev_simpleMLP.get_daily_portfolio_value()\n",
    "ev_simpleMLP = simpleMLP.test(file_name=file_name, action_name=dataTrain_autoPatternExtractionAgent.action_name,\n",
    "                                  initial_investment=initial_investment, test_type='test')\n",
    "simpleMLP_portfolio_test = ev_simpleMLP.get_daily_portfolio_value()\n",
    "\n",
    "model_kind = 'MLP-vanilla'\n",
    "# model_kind = 'MLP'\n",
    "\n",
    "add_train_portfo(model_kind, simpleMLP_portfolio_train)\n",
    "add_test_portfo(model_kind, simpleMLP_portfolio_test)"
   ]
  },
  {
   "cell_type": "markdown",
   "metadata": {},
   "source": [
    "#### Candle Representation Input"
   ]
  },
  {
   "cell_type": "code",
   "execution_count": null,
   "metadata": {
    "pycharm": {
     "name": "#%%\n"
    }
   },
   "outputs": [],
   "source": [
    "n_classes = 64\n",
    "\n",
    "simpleMLP = SimpleMLP(data_loader, dataTrain_autoPatternExtractionAgent_candle_rep, \n",
    "                      dataTest_autoPatternExtractionAgent_candle_rep, DATASET_NAME, \n",
    "                    state_mode, window_size, transaction_cost, n_classes, BATCH_SIZE=BATCH_SIZE, GAMMA=GAMMA, EPS=EPS,\n",
    "                    ReplayMemorySize=ReplayMemorySize, TARGET_UPDATE=TARGET_UPDATE, n_actions=n_actions, n_step=n_step)\n",
    "\n",
    "simpleMLP.train(num_episodes)\n",
    "file_name = None\n",
    "\n",
    "\n",
    "# file_name = 'BTC-USD; DATA_KIND(AutoPatternExtraction); BEGIN_DATE(None); END_DATE(None); SPLIT_POINT(2018-01-01); MLP; TransactionCost(0.0); StateMode(4); WindowSize(3); BATCH_SIZE10; GAMMA0.7; EPSILON0.1; REPLAY_MEMORY_SIZE20; C5; N_SARSA10; EXPERIMENT(1).pkl'\n",
    "# file_name = 'GOOGL; DATA_KIND(AutoPatternExtraction); BEGIN_DATE(None); END_DATE(None); SPLIT_POINT(2018-01-01); MLP; TC(0.0); StateMode(4); WindowSize(3); BATCH_SIZE10; GAMMA0.7; EPS0.1; REPLAY_MEMORY_SIZE20; C5; N_SARSA10(1).pkl'\n",
    "# file_name = 'AAPL; DATA_KIND(AutoPatternExtraction); BEGIN_DATE(2010-01-01); END_DATE(2020-08-24); SPLIT_POINT(2018-01-01); MLP; TC(0.0); StateMode(4); WindowSize(3); BATCH_SIZE10; GAMMA0.7; EPS0.1; REPLAY_MEMORY_SIZE20; C5; N_SARSA10(1).pkl'\n",
    "# file_name = 'KSS; DATA_KIND(AutoPatternExtraction); BEGIN_DATE(None); END_DATE(None); SPLIT_POINT(2018-01-01); MLP; TC(0.0); StateMode(4); WindowSize(3); BATCH_SIZE10; GAMMA0.7; EPS0.1; REPLAY_MEMORY_SIZE20; C5; N_SARSA10(1).pkl'\n",
    "\n",
    "ev_simpleMLP = simpleMLP.test(file_name=file_name, action_name=dataTrain_autoPatternExtractionAgent_candle_rep.action_name,\n",
    "                                  initial_investment=initial_investment, test_type='train')\n",
    "simpleMLP_portfolio_train = ev_simpleMLP.get_daily_portfolio_value()\n",
    "ev_simpleMLP = simpleMLP.test(file_name=file_name, action_name=dataTrain_autoPatternExtractionAgent_candle_rep.action_name,\n",
    "                                  initial_investment=initial_investment, test_type='test')\n",
    "simpleMLP_portfolio_test = ev_simpleMLP.get_daily_portfolio_value()\n",
    "\n",
    "model_kind = 'MLP-candle-rep'\n",
    "\n",
    "add_train_portfo(model_kind, simpleMLP_portfolio_train)\n",
    "add_test_portfo(model_kind, simpleMLP_portfolio_test)"
   ]
  },
  {
   "cell_type": "markdown",
   "metadata": {},
   "source": [
    "#### Windowed Input"
   ]
  },
  {
   "cell_type": "markdown",
   "metadata": {},
   "source": [
    "Input is a window of OHLC candles."
   ]
  },
  {
   "cell_type": "code",
   "execution_count": null,
   "metadata": {
    "pycharm": {
     "name": "#%%\n"
    }
   },
   "outputs": [],
   "source": [
    "n_classes = 64\n",
    "\n",
    "simpleMLP = SimpleMLP(data_loader, dataTrain_autoPatternExtractionAgent_windowed, \n",
    "                      dataTest_autoPatternExtractionAgent_windowed, DATASET_NAME, \n",
    "                    state_mode, window_size, transaction_cost, n_classes, BATCH_SIZE=BATCH_SIZE, GAMMA=GAMMA, EPS=EPS,\n",
    "                    ReplayMemorySize=ReplayMemorySize, TARGET_UPDATE=TARGET_UPDATE, n_actions=n_actions, n_step=n_step)\n",
    "\n",
    "simpleMLP.train(num_episodes)\n",
    "file_name = None\n",
    "\n",
    "\n",
    "# file_name = 'BTC-USD; DATA_KIND(AutoPatternExtraction); BEGIN_DATE(None); END_DATE(None); SPLIT_POINT(2018-01-01); MLP; TransactionCost(0.0); StateMode(5); WindowSize(3); BATCH_SIZE10; GAMMA0.7; EPSILON0.1; REPLAY_MEMORY_SIZE20; C5; N_SARSA10.pkl'\n",
    "# file_name = 'GOOGL; DATA_KIND(AutoPatternExtraction); BEGIN_DATE(None); END_DATE(None); SPLIT_POINT(2018-01-01); MLP; TC(0.0); StateMode(5); WindowSize(3); BATCH_SIZE10; GAMMA0.7; EPS0.1; REPLAY_MEMORY_SIZE20; C5; N_SARSA10(1).pkl'\n",
    "# file_name = 'AAPL; DATA_KIND(AutoPatternExtraction); BEGIN_DATE(2010-01-01); END_DATE(2020-08-24); SPLIT_POINT(2018-01-01); MLP; TC(0.0); StateMode(5); WindowSize(3); BATCH_SIZE10; GAMMA0.7; EPS0.1; REPLAY_MEMORY_SIZE20; C5; N_SARSA10(1).pkl'\n",
    "# file_name = 'KSS; DATA_KIND(AutoPatternExtraction); BEGIN_DATE(None); END_DATE(None); SPLIT_POINT(2018-01-01); MLP; TC(0.0); StateMode(5); WindowSize(3); BATCH_SIZE10; GAMMA0.7; EPS0.1; REPLAY_MEMORY_SIZE20; C5; N_SARSA10(1).pkl'\n",
    "\n",
    "# file_name = 'BTC-USD; DATA_KIND(AutoPatternExtraction); BEGIN_DATE(None); END_DATE(None); SPLIT_POINT(2018-01-01); MLP; TC(0.0); StateMode(5); WindowSize(20); BATCH_SIZE10; GAMMA0.7; EPS0.1; REPLAY_MEMORY_SIZE20; C5; N_SARSA10.pkl'\n",
    "# file_name = 'GOOGL; DATA_KIND(AutoPatternExtraction); BEGIN_DATE(None); END_DATE(None); SPLIT_POINT(2018-01-01); MLP; TC(0.0); StateMode(5); WindowSize(20); BATCH_SIZE10; GAMMA0.7; EPS0.1; REPLAY_MEMORY_SIZE20; C5; N_SARSA10(1).pkl'\n",
    "# file_name = 'AAPL; DATA_KIND(AutoPatternExtraction); BEGIN_DATE(2010-01-01); END_DATE(2020-08-24); SPLIT_POINT(2018-01-01); MLP; TC(0.0); StateMode(5); WindowSize(20); BATCH_SIZE10; GAMMA0.7; EPS0.1; REPLAY_MEMORY_SIZE20; C5; N_SARSA10.pkl'\n",
    "# file_name = 'KSS; DATA_KIND(AutoPatternExtraction); BEGIN_DATE(None); END_DATE(None); SPLIT_POINT(2018-01-01); MLP; TC(0.0); StateMode(5); WindowSize(20); BATCH_SIZE10; GAMMA0.7; EPS0.1; REPLAY_MEMORY_SIZE20; C5; N_SARSA10.pkl'\n",
    "# file_name = 'GE; DATA_KIND(AutoPatternExtraction); BEGIN_DATE(None); END_DATE(None); SPLIT_POINT(2015-01-01); MLP; TC(0); StateMode(5); WindowSize(15); BATCH_SIZE10; GAMMA0.7; EPS0.1; REPLAY_MEMORY_SIZE20; C5; N_SARSA10.pkl'\n",
    "# file_name = 'HSI; DATA_KIND(AutoPatternExtraction); BEGIN_DATE(None); END_DATE(None); SPLIT_POINT(2015-01-01); MLP; TC(0); StateMode(5); WindowSize(15); BATCH_SIZE10; GAMMA0.7; EPS0.1; REPLAY_MEMORY_SIZE20; C5; N_SARSA10.pkl'\n",
    "# file_name = 'AAL; DATA_KIND(AutoPatternExtraction); BEGIN_DATE(None); END_DATE(None); SPLIT_POINT(2018-01-01); MLP; TC(0); StateMode(5); WindowSize(10); BATCH_SIZE10; GAMMA0.7; EPS0.1; REPLAY_MEMORY_SIZE20; C5; N_SARSA10.pkl'\n",
    "\n",
    "ev_simpleMLP = simpleMLP.test(file_name=file_name, action_name=dataTrain_autoPatternExtractionAgent_windowed.action_name,\n",
    "                                  initial_investment=initial_investment, test_type='train')\n",
    "simpleMLP_portfolio_train = ev_simpleMLP.get_daily_portfolio_value()\n",
    "ev_simpleMLP = simpleMLP.test(file_name=file_name, action_name=dataTrain_autoPatternExtractionAgent_windowed.action_name,\n",
    "                                  initial_investment=initial_investment, test_type='test')\n",
    "simpleMLP_portfolio_test = ev_simpleMLP.get_daily_portfolio_value()\n",
    "\n",
    "model_kind = 'MLP-windowed'\n",
    "\n",
    "add_train_portfo(model_kind, simpleMLP_portfolio_train)\n",
    "add_test_portfo(model_kind, simpleMLP_portfolio_test)"
   ]
  },
  {
   "cell_type": "markdown",
   "metadata": {},
   "source": [
    "#### Test Window Size"
   ]
  },
  {
   "cell_type": "markdown",
   "metadata": {},
   "source": [
    "The following block is for testing the effect of window-size in the input representation on the performance of the model. Here we assume that we have a set of pretrained models in the `./Objects/<model name>` directory. If you do not have these pretrained models, you should train from scratch and set `file_name = None`. The set of window sizes that are being tested in the experiments are in `window_sizes` list."
   ]
  },
  {
   "cell_type": "code",
   "execution_count": null,
   "metadata": {},
   "outputs": [],
   "source": [
    "n_classes = 64\n",
    "state_mode = 5\n",
    "\n",
    "for window_size in tqdm(window_sizes):\n",
    "    \n",
    "    dataTrain_autoPatternExtractionAgent_windowed = DataAutoPatternExtractionAgent(data_loader.data_train, state_mode, 'action_encoder_decoder', device, GAMMA, n_step, BATCH_SIZE, window_size, transaction_cost)\n",
    "    dataTest_autoPatternExtractionAgent_windowed = DataAutoPatternExtractionAgent(data_loader.data_test, state_mode, 'action_encoder_decoder', device, GAMMA, n_step, BATCH_SIZE, window_size, transaction_cost)\n",
    "    \n",
    "    simpleMLP = SimpleMLP(data_loader, dataTrain_autoPatternExtractionAgent_windowed, \n",
    "                          dataTest_autoPatternExtractionAgent_windowed, DATASET_NAME, \n",
    "                        state_mode, window_size, transaction_cost, n_classes, BATCH_SIZE=BATCH_SIZE, GAMMA=GAMMA, EPS=EPS,\n",
    "                        ReplayMemorySize=ReplayMemorySize, TARGET_UPDATE=TARGET_UPDATE, n_actions=n_actions, n_step=n_step)\n",
    "\n",
    "    \n",
    "    simpleMLP.train(num_episodes)\n",
    "    file_name = None\n",
    "    \n",
    "#     file_name = f'GE; DATA_KIND(AutoPatternExtraction); BEGIN_DATE(None); END_DATE(None); SPLIT_POINT(2015-01-01); MLP; TC(0); StateMode(5); WindowSize({window_size}); BATCH_SIZE10; GAMMA0.7; EPS0.1; REPLAY_MEMORY_SIZE20; C5; N_SARSA10(1).pkl'\n",
    "\n",
    "    ev_simpleMLP = simpleMLP.test(file_name=file_name, action_name=dataTrain_autoPatternExtractionAgent_windowed.action_name,\n",
    "                                      initial_investment=initial_investment, test_type='train')\n",
    "    simpleMLP_portfolio_train = ev_simpleMLP.get_daily_portfolio_value()\n",
    "    ev_simpleMLP = simpleMLP.test(file_name=file_name, action_name=dataTrain_autoPatternExtractionAgent_windowed.action_name,\n",
    "                                      initial_investment=initial_investment, test_type='test')\n",
    "    simpleMLP_portfolio_test = ev_simpleMLP.get_daily_portfolio_value()\n",
    "\n",
    "    model_kind = 'MLP-windowed'\n",
    "\n",
    "    add_train_portfo(model_kind, simpleMLP_portfolio_train)\n",
    "    add_test_portfo(model_kind, simpleMLP_portfolio_test)\n",
    "    \n",
    "    if model_kind not in window_size_experiment.keys():\n",
    "        window_size_experiment[model_kind] = {}\n",
    "\n",
    "    window_size_experiment[model_kind][window_size] = \\\n",
    "        ((test_portfolios[model_kind][-1] - test_portfolios[model_kind][0])/test_portfolios[model_kind][0] * 100)"
   ]
  },
  {
   "cell_type": "markdown",
   "metadata": {},
   "source": [
    "### Simple CNN "
   ]
  },
  {
   "cell_type": "markdown",
   "metadata": {},
   "source": [
    "1-layerd 1d CNN as encoder."
   ]
  },
  {
   "cell_type": "code",
   "execution_count": null,
   "metadata": {
    "pycharm": {
     "name": "#%%\n"
    }
   },
   "outputs": [],
   "source": [
    "n_classes = 128\n",
    "\n",
    "simpleCNN = SimpleCNN(data_loader, dataTrain_autoPatternExtractionAgent, dataTest_autoPatternExtractionAgent, DATASET_NAME, \n",
    "                    state_mode, window_size, transaction_cost, n_classes, BATCH_SIZE=BATCH_SIZE, GAMMA=GAMMA, EPS=EPS,\n",
    "                    ReplayMemorySize=ReplayMemorySize, TARGET_UPDATE=TARGET_UPDATE, n_actions=n_actions, n_step=n_step)\n",
    "\n",
    "simpleCNN.train(num_episodes)\n",
    "file_name = None\n",
    "\n",
    "# file_name = 'KSS; DATA_KIND(AutoPatternExtraction); BEGIN_DATE(None); END_DATE(None); SPLIT_POINT(2018-01-01); SimpleCNNEncoder; TC(0.0); StateMode(1); WindowSize(20); BATCH_SIZE10; GAMMA0.7; EPS0.1; REPLAY_MEMORY_SIZE20; C5; N_SARSA10(1).pkl'\n",
    "# file_name = 'BTC-USD; DATA_KIND(AutoPatternExtraction); BEGIN_DATE(None); END_DATE(None); SPLIT_POINT(2018-01-01); SimpleCNNEncoder; TC(0); StateMode(1); WindowSize(20); BATCH_SIZE10; GAMMA0.7; EPS0.1; REPLAY_MEMORY_SIZE20; C5; N_SARSA10(1).pkl'\n",
    "# file_name = 'GOOGL; DATA_KIND(AutoPatternExtraction); BEGIN_DATE(None); END_DATE(None); SPLIT_POINT(2018-01-01); SimpleCNNEncoder; TC(0.0); StateMode(1); WindowSize(20); BATCH_SIZE10; GAMMA0.7; EPS0.1; REPLAY_MEMORY_SIZE20; C5; N_SARSA10(1).pkl'\n",
    "# file_name = 'AAPL; DATA_KIND(AutoPatternExtraction); BEGIN_DATE(2010-01-01); END_DATE(2020-08-24); SPLIT_POINT(2018-01-01); SimpleCNNEncoder; TC(0.0); StateMode(1); WindowSize(20); BATCH_SIZE10; GAMMA0.7; EPS0.1; REPLAY_MEMORY_SIZE20; C5; N_SARSA10(1).pkl'\n",
    "\n",
    "ev_simpleCNN = simpleCNN.test(file_name=file_name, action_name=dataTrain_autoPatternExtractionAgent.action_name,\n",
    "                                  initial_investment=initial_investment, test_type='train')\n",
    "simpleCNN_portfolio_train = ev_simpleCNN.get_daily_portfolio_value()\n",
    "ev_simpleCNN = simpleCNN.test(file_name=file_name, action_name=dataTrain_autoPatternExtractionAgent.action_name,\n",
    "                                  initial_investment=initial_investment, test_type='test')\n",
    "simpleCNN_portfolio_test = ev_simpleCNN.get_daily_portfolio_value()\n",
    "\n",
    "# model_kind = 'CNN1d-vanilla'\n",
    "model_kind = 'CNN1D'\n",
    "\n",
    "add_train_portfo(model_kind, simpleCNN_portfolio_train)\n",
    "add_test_portfo(model_kind, simpleCNN_portfolio_test)"
   ]
  },
  {
   "cell_type": "markdown",
   "metadata": {},
   "source": [
    "### CNN2D"
   ]
  },
  {
   "cell_type": "markdown",
   "metadata": {},
   "source": [
    "1-layerd 2d CNN"
   ]
  },
  {
   "cell_type": "code",
   "execution_count": null,
   "metadata": {
    "pycharm": {
     "name": "#%%\n"
    }
   },
   "outputs": [],
   "source": [
    "decoder_input_size = 128\n",
    "\n",
    "cnn2d_agent = cnn2d(data_loader, dataTrain_sequential, dataTest_sequential, DATASET_NAME, decoder_input_size, \n",
    "                    transaction_cost, BATCH_SIZE=BATCH_SIZE, GAMMA=GAMMA, EPS=EPS, ReplayMemorySize=ReplayMemorySize,\n",
    "                    TARGET_UPDATE=TARGET_UPDATE, n_actions=n_actions, n_step=n_step, window_size=window_size)\n",
    "\n",
    "cnn2d_agent.train(num_episodes)\n",
    "file_name = None\n",
    "\n",
    "# file_name = 'KSS; DATA_KIND(LSTMSequential); Dates(None, 2018-01-01, None); CNN2D; TC(0.0); WindowSize(3); BATCH_SIZE10; GAMMA0.7; EPS0.1; REPLAY_MEMORY_SIZE20; C5; N_SARSA10.pkl'\n",
    "# file_name = 'BTC-USD; DATA_KIND(LSTMSequential); Dates(None, 2018-01-01, None); CNN2D; TC(0.0); WindowSize(3); BATCH_SIZE10; GAMMA0.7; EPSILON0.1; REPLAY_MEMORY_SIZE20; C5; N_SARSA10; EXPERIMENT.pkl'\n",
    "# file_name = 'GOOGL; DATA_KIND(LSTMSequential); Dates(None, 2018-01-01, None); CNN2D; TC(0.0); WindowSize(3); BATCH_SIZE10; GAMMA0.7; EPS0.1; REPLAY_MEMORY_SIZE20; C5; N_SARSA10(1).pkl'\n",
    "# file_name = 'AAPL; DATA_KIND(LSTMSequential); Dates(2010-01-01, 2018-01-01, 2020-08-24); CNN2D; TC(0.0); WindowSize(3); BATCH_SIZE10; GAMMA0.7; EPSILON0.1; REPLAY_MEMORY_SIZE20; C5; N_SARSA10; EXPERIMENT.pkl'\n",
    "\n",
    "ev_cnn2d_agent = cnn2d_agent.test(file_name=file_name, action_name=dataTrain_autoPatternExtractionAgent.action_name,\n",
    "                                  initial_investment=initial_investment, test_type='train')\n",
    "cnn2d_agent_portfolio_train = ev_cnn2d_agent.get_daily_portfolio_value()\n",
    "ev_cnn2d_agent = cnn2d_agent.test(file_name=file_name, action_name=dataTrain_autoPatternExtractionAgent.action_name,\n",
    "                                  initial_investment=initial_investment, test_type='test')\n",
    "cnn2d_agent_portfolio_test = ev_cnn2d_agent.get_daily_portfolio_value()\n",
    "\n",
    "model_kind = 'CNN2D'\n",
    "\n",
    "add_train_portfo(model_kind, cnn2d_agent_portfolio_train)\n",
    "add_test_portfo(model_kind, cnn2d_agent_portfolio_test)"
   ]
  },
  {
   "cell_type": "markdown",
   "metadata": {},
   "source": [
    "### GRU as Encoder"
   ]
  },
  {
   "cell_type": "code",
   "execution_count": null,
   "metadata": {},
   "outputs": [],
   "source": [
    "hidden_size = 64\n",
    "\n",
    "gru_agent = gru(data_loader, dataTrain_sequential, dataTest_sequential, DATASET_NAME, transaction_cost, hidden_size,\n",
    "                    BATCH_SIZE=BATCH_SIZE, GAMMA=GAMMA, EPS=EPS,\n",
    "                    ReplayMemorySize=ReplayMemorySize,\n",
    "                    TARGET_UPDATE=TARGET_UPDATE,\n",
    "                    n_actions=n_actions,\n",
    "                    n_step=n_step,\n",
    "                    window_size=window_size)\n",
    "\n",
    "gru_agent.train(num_episodes)\n",
    "file_name = None\n",
    "\n",
    "# file_name = 'GOOGL; DATA_KIND(LSTMSequential); GRU; PredictionStep(None); WindowSize(20); TRAIN_TEST_SPLIT(True); BATCH_SIZE10; GAMMA0.7; EPSILON0.1; REPLAY_MEMORY_SIZE20; C5; N_SARSA10; EXPERIMENT.pkl'\n",
    "# file_name = 'AAPL; DATA_KIND(LSTMSequential); GRU; PredictionStep(None); WindowSize(20); TRAIN_TEST_SPLIT(True); BATCH_SIZE10; GAMMA0.7; EPSILON0.7; REPLAY_MEMORY_SIZE20; C5; N_SARSA10; EXPERIMENT.pkl'\n",
    "# file_name = 'BTC-USD; DATA_KIND(LSTMSequential); GRU; PredictionStep(None); WindowSize(20); TRAIN_TEST_SPLIT(True); BATCH_SIZE10; GAMMA0.7; EPSILON0.1; REPLAY_MEMORY_SIZE20; C5; N_SARSA10; EXPERIMENT.pkl'\n",
    "# file_name = 'KSS; DATA_KIND(LSTMSequential); Dates(None, 2018-01-01, None); GRU; TC(0.0); WindowSize(20); BATCH_SIZE10; GAMMA0.7; EPS0.1; REPLAY_MEMORY_SIZE20; C5; N_SARSA10.pkl'\n",
    "# file_name = 'GE; DATA_KIND(LSTMSequential); Dates(None, 2015-01-01, None); GRU; TC(0); WindowSize(15); BATCH_SIZE10; GAMMA0.7; EPS0.1; REPLAY_MEMORY_SIZE20; C5; N_SARSA10.pkl'\n",
    "# file_name = 'HSI; DATA_KIND(LSTMSequential); Dates(None, 2015-01-01, None); GRU; TC(0); WindowSize(15); BATCH_SIZE10; GAMMA0.7; EPS0.1; REPLAY_MEMORY_SIZE20; C5; N_SARSA10.pkl'\n",
    "# file_name = 'AAL; DATA_KIND(LSTMSequential); Dates(None, 2018-01-01, None); GRU; TC(0); WindowSize(10); BATCH_SIZE10; GAMMA0.7; EPS0.1; REPLAY_MEMORY_SIZE20; C5; N_SARSA10.pkl'\n",
    "\n",
    "# file_name = 'BTC-USD; DATA_KIND(LSTMSequential); Dates(None, 2018-01-01, None); GRU; TC(0); WindowSize(3); BATCH_SIZE10; GAMMA0.7; EPS0.1; REPLAY_MEMORY_SIZE20; C5; N_SARSA10(1).pkl'\n",
    "# file_name = 'GOOGL; DATA_KIND(LSTMSequential); Dates(None, 2018-01-01, None); GRU; TC(0); WindowSize(3); BATCH_SIZE10; GAMMA0.7; EPS0.1; REPLAY_MEMORY_SIZE20; C5; N_SARSA10(1).pkl'\n",
    "# file_name = 'AAPL; DATA_KIND(LSTMSequential); Dates(2010-01-01, 2018-01-01, 2020-08-24); GRU; TC(0); WindowSize(3); BATCH_SIZE10; GAMMA0.7; EPS0.1; REPLAY_MEMORY_SIZE20; C5; N_SARSA10(1).pkl'\n",
    "# file_name = 'KSS; DATA_KIND(LSTMSequential); Dates(None, 2018-01-01, None); GRU; TC(0.0); WindowSize(3); BATCH_SIZE10; GAMMA0.7; EPS0.1; REPLAY_MEMORY_SIZE20; C5; N_SARSA10(1).pkl'\n",
    "\n",
    "model_kind = 'GRU'\n",
    "\n",
    "ev_gru_agent = gru_agent.test(file_name=file_name, action_name=dataTrain_sequential.action_name,\n",
    "                                  initial_investment=initial_investment, test_type='train')\n",
    "gru_agent_portfolio_train = ev_gru_agent.get_daily_portfolio_value()\n",
    "ev_gru_agent = gru_agent.test(file_name=file_name, action_name=dataTrain_sequential.action_name,\n",
    "                                  initial_investment=initial_investment, test_type='test')\n",
    "gru_agent_portfolio_test = ev_gru_agent.get_daily_portfolio_value()\n",
    "\n",
    "model_kind = 'GRU'\n",
    "\n",
    "add_train_portfo('GRU', gru_agent_portfolio_train)\n",
    "add_test_portfo('GRU', gru_agent_portfolio_test)"
   ]
  },
  {
   "cell_type": "markdown",
   "metadata": {},
   "source": [
    "#### window size test"
   ]
  },
  {
   "cell_type": "markdown",
   "metadata": {},
   "source": [
    "The following block is for testing the effect of window-size in the input representation on the performance of the model. Here we assume that we have a set of pretrained models in the `./Objects/GRU` directory. If you do not have these pretrained models, you should train from scratch and set `file_name = None`. The set of window sizes that are being tested in the experiments are in `window_sizes` list."
   ]
  },
  {
   "cell_type": "code",
   "execution_count": null,
   "metadata": {},
   "outputs": [],
   "source": [
    "hidden_size = 64\n",
    "\n",
    "for window_size in tqdm(window_sizes):\n",
    "    dataTrain_sequential = DataSequential(data_loader.data_train,\n",
    "                               'action_encoder_decoder', device, GAMMA,\n",
    "                               n_step, BATCH_SIZE, window_size, transaction_cost)\n",
    "    dataTest_sequential = DataSequential(data_loader.data_test,\n",
    "                              'action_encoder_decoder', device, GAMMA,\n",
    "                              n_step, BATCH_SIZE, window_size, transaction_cost)  \n",
    "    \n",
    "    gru_agent = gru(data_loader, dataTrain_sequential, dataTest_sequential, DATASET_NAME, transaction_cost, hidden_size,\n",
    "                        BATCH_SIZE=BATCH_SIZE, GAMMA=GAMMA, EPS=EPS,\n",
    "                        ReplayMemorySize=ReplayMemorySize,\n",
    "                        TARGET_UPDATE=TARGET_UPDATE,\n",
    "                        n_actions=n_actions,\n",
    "                        n_step=n_step,\n",
    "                        window_size=window_size)\n",
    "\n",
    "    gru_agent.train(num_episodes)\n",
    "    file_name = None\n",
    "    \n",
    "#     file_name = f'GOOGL; DATA_KIND(LSTMSequential); Dates(None, 2018-01-01, None); GRU; TC(0); WindowSize({window_size}); BATCH_SIZE10; GAMMA0.7; EPS0.1; REPLAY_MEMORY_SIZE20; C5; N_SARSA10(1).pkl'\n",
    "\n",
    "\n",
    "    ev_gru_agent = gru_agent.test(file_name=file_name, action_name=dataTrain_sequential.action_name,\n",
    "                                      initial_investment=initial_investment, test_type='train')\n",
    "    gru_agent_portfolio_train = ev_gru_agent.get_daily_portfolio_value()\n",
    "    ev_gru_agent = gru_agent.test(file_name=file_name, action_name=dataTrain_sequential.action_name,\n",
    "                                      initial_investment=initial_investment, test_type='test')\n",
    "    gru_agent_portfolio_test = ev_gru_agent.get_daily_portfolio_value()\n",
    "\n",
    "    add_train_portfo('GRU', gru_agent_portfolio_train)\n",
    "    add_test_portfo('GRU', gru_agent_portfolio_test)\n",
    "\n",
    "    if 'GRU' not in window_size_experiment.keys():\n",
    "        window_size_experiment['GRU'] = {}\n",
    "\n",
    "    window_size_experiment['GRU'][window_size] = \\\n",
    "        ((test_portfolios['GRU'][-1] - test_portfolios['GRU'][0])/test_portfolios['GRU'][0] * 100)"
   ]
  },
  {
   "cell_type": "markdown",
   "metadata": {},
   "source": [
    "### Convolutional"
   ]
  },
  {
   "cell_type": "markdown",
   "metadata": {},
   "source": [
    "Two-layered 1d CNN"
   ]
  },
  {
   "cell_type": "code",
   "execution_count": null,
   "metadata": {},
   "outputs": [],
   "source": [
    "cnn_agent = cnn(data_loader, dataTrain_sequential, dataTest_sequential, DATASET_NAME, transaction_cost,\n",
    "                    BATCH_SIZE=BATCH_SIZE, GAMMA=GAMMA, EPS=EPS,\n",
    "                    ReplayMemorySize=ReplayMemorySize,\n",
    "                    TARGET_UPDATE=TARGET_UPDATE,\n",
    "                    n_actions=n_actions,\n",
    "                    n_step=n_step,\n",
    "                    window_size=window_size)\n",
    "\n",
    "cnn_agent.train(num_episodes)\n",
    "file_name = None\n",
    "\n",
    "# file_name = 'GOOGL; DATA_KIND(LSTMSequential); Convolutional; PredictionStep(None); WindowSize(20); TRAIN_TEST_SPLIT(True); BATCH_SIZE10; GAMMA0.7; EPSILON0.1; REPLAY_MEMORY_SIZE20; C5; N_SARSA10; EXPERIMENT.pkl'\n",
    "# file_name = 'AAPL; DATA_KIND(LSTMSequential); Convolutional; PredictionStep(None); WindowSize(20); TRAIN_TEST_SPLIT(True); BATCH_SIZE10; GAMMA0.7; EPSILON0.1; REPLAY_MEMORY_SIZE20; C5; N_SARSA10; EXPERIMENT.pkl'\n",
    "# file_name = 'BTC-USD; DATA_KIND(LSTMSequential); Convolutional; PredictionStep(None); WindowSize(20); TRAIN_TEST_SPLIT(True); BATCH_SIZE10; GAMMA0.7; EPSILON0.1; REPLAY_MEMORY_SIZE20; C5; N_SARSA10; EXPERIMENT.pkl'\n",
    "# file_name = 'KSS; DATA_KIND(LSTMSequential); Dates(None, 2018-01-01, None); CNN; TC(0.0); WindowSize(20); BATCH_SIZE10; GAMMA0.7; EPS0.1; REPLAY_MEMORY_SIZE20; C5; N_SARSA10.pkl'\n",
    "# file_name = 'GE; DATA_KIND(LSTMSequential); Dates(None, 2015-01-01, None); CNN; TC(0); WindowSize(15); BATCH_SIZE10; GAMMA0.7; EPS0.1; REPLAY_MEMORY_SIZE20; C5; N_SARSA10.pkl'\n",
    "# file_name = 'HSI; DATA_KIND(LSTMSequential); Dates(None, 2015-01-01, None); CNN; TC(0); WindowSize(15); BATCH_SIZE10; GAMMA0.7; EPS0.1; REPLAY_MEMORY_SIZE20; C5; N_SARSA10.pkl'\n",
    "# file_name = 'AAL; DATA_KIND(LSTMSequential); Dates(None, 2018-01-01, None); CNN; TC(0); WindowSize(10); BATCH_SIZE10; GAMMA0.7; EPS0.1; REPLAY_MEMORY_SIZE20; C5; N_SARSA10.pkl'\n",
    "\n",
    "# file_name = 'BTC-USD; DATA_KIND(LSTMSequential); Dates(None, 2018-01-01, None); CNN; TC(0.0); WindowSize(3); BATCH_SIZE10; GAMMA0.7; EPS0.1; REPLAY_MEMORY_SIZE20; C5; N_SARSA10.pkl'\n",
    "\n",
    "model_kind = 'CNN'\n",
    "\n",
    "ev_cnn = cnn_agent.test(file_name=file_name,action_name=dataTrain_sequential.action_name,\n",
    "                                  initial_investment=initial_investment, test_type='train')\n",
    "cnn_portfolio_train = ev_cnn.get_daily_portfolio_value()\n",
    "ev_cnn = cnn_agent.test(file_name=file_name,action_name=dataTrain_sequential.action_name,\n",
    "                                  initial_investment=initial_investment, test_type='test')\n",
    "cnn_portfolio_test = ev_cnn.get_daily_portfolio_value()\n",
    "\n",
    "model_kind = 'CNN'\n",
    "\n",
    "add_train_portfo('CNN', cnn_portfolio_train)\n",
    "add_test_portfo('CNN', cnn_portfolio_test)"
   ]
  },
  {
   "cell_type": "markdown",
   "metadata": {},
   "source": [
    "#### Test Window Size"
   ]
  },
  {
   "cell_type": "markdown",
   "metadata": {},
   "source": [
    "The following block is for testing the effect of window-size in the input representation on the performance of the model. Here we assume that we have a set of pretrained models in the `./Objects/CNN` directory. If you do not have these pretrained models, you should train from scratch and set `file_name = None`. The set of window sizes that are being tested in the experiments are in `window_sizes` list."
   ]
  },
  {
   "cell_type": "code",
   "execution_count": null,
   "metadata": {},
   "outputs": [],
   "source": [
    "for window_size in tqdm(window_sizes):\n",
    "    dataTrain_sequential = DataSequential(data_loader.data_train,\n",
    "                               'action_encoder_decoder', device, GAMMA,\n",
    "                               n_step, BATCH_SIZE, window_size, transaction_cost)\n",
    "    dataTest_sequential = DataSequential(data_loader.data_test,\n",
    "                              'action_encoder_decoder', device, GAMMA,\n",
    "                              n_step, BATCH_SIZE, window_size, transaction_cost) \n",
    "    \n",
    "    cnn_agent = cnn(data_loader, dataTrain_sequential, dataTest_sequential, DATASET_NAME, transaction_cost,\n",
    "                        BATCH_SIZE=BATCH_SIZE, GAMMA=GAMMA, EPS=EPS,\n",
    "                        ReplayMemorySize=ReplayMemorySize,\n",
    "                        TARGET_UPDATE=TARGET_UPDATE,\n",
    "                        n_actions=n_actions,\n",
    "                        n_step=n_step,\n",
    "                        window_size=window_size)\n",
    "\n",
    "    cnn_agent.train(num_episodes)\n",
    "    file_name = None\n",
    "    \n",
    "#     file_name = f'GE; DATA_KIND(LSTMSequential); Dates(None, 2015-01-01, None); CNN; TC(0); WindowSize({window_size}); BATCH_SIZE10; GAMMA0.7; EPS0.1; REPLAY_MEMORY_SIZE20; C5; N_SARSA10(1).pkl'\n",
    "    \n",
    "    ev_cnn = cnn_agent.test(file_name=file_name,action_name=dataTrain_sequential.action_name,\n",
    "                                      initial_investment=initial_investment, test_type='train')\n",
    "    cnn_portfolio_train = ev_cnn.get_daily_portfolio_value()\n",
    "    ev_cnn = cnn_agent.test(file_name=file_name,action_name=dataTrain_sequential.action_name,\n",
    "                                      initial_investment=initial_investment, test_type='test')\n",
    "    cnn_portfolio_test = ev_cnn.get_daily_portfolio_value()\n",
    "\n",
    "    add_train_portfo('CNN', cnn_portfolio_train)\n",
    "    add_test_portfo('CNN', cnn_portfolio_test)\n",
    "    \n",
    "    if 'CNN' not in window_size_experiment.keys():\n",
    "        window_size_experiment['CNN'] = {}\n",
    "\n",
    "    window_size_experiment['CNN'][window_size] = \\\n",
    "        ((test_portfolios['CNN'][-1] - test_portfolios['CNN'][0])/test_portfolios['CNN'][0] * 100)"
   ]
  },
  {
   "cell_type": "markdown",
   "metadata": {},
   "source": [
    "### CNN-GRU"
   ]
  },
  {
   "cell_type": "code",
   "execution_count": null,
   "metadata": {},
   "outputs": [],
   "source": [
    "cnn_gru_agent = cnn_gru(data_loader, dataTrain_sequential, dataTest_sequential, DATASET_NAME, transaction_cost, hidden_size,\n",
    "                    BATCH_SIZE=BATCH_SIZE, GAMMA=GAMMA, EPS=EPS,\n",
    "                    ReplayMemorySize=ReplayMemorySize,\n",
    "                    TARGET_UPDATE=TARGET_UPDATE,\n",
    "                    n_actions=n_actions,\n",
    "                    n_step=n_step,\n",
    "                    window_size=window_size)\n",
    "\n",
    "cnn_gru_agent.train(num_episodes)\n",
    "file_name = None\n",
    "\n",
    "# file_name = 'GOOGL; DATA_KIND(LSTMSequential); CNN_GRU; PredictionStep(None); WindowSize(20); TRAIN_TEST_SPLIT(True); BATCH_SIZE10; GAMMA0.7; EPSILON0.1; REPLAY_MEMORY_SIZE20; C5; N_SARSA10; EXPERIMENT.pkl'\n",
    "# file_name = 'AAPL; DATA_KIND(LSTMSequential); CNN_GRU; PredictionStep(None); WindowSize(20); TRAIN_TEST_SPLIT(True); BATCH_SIZE10; GAMMA0.7; EPSILON0.1; REPLAY_MEMORY_SIZE20; C5; N_SARSA10; EXPERIMENT.pkl'\n",
    "# file_name = 'BTC-USD; DATA_KIND(LSTMSequential); CNN_GRU; PredictionStep(None); WindowSize(20); TRAIN_TEST_SPLIT(True); BATCH_SIZE10; GAMMA0.7; EPSILON0.1; REPLAY_MEMORY_SIZE20; C5; N_SARSA10; EXPERIMENT.pkl'\n",
    "# file_name = 'KSS; DATA_KIND(LSTMSequential); Dates(None, 2018-01-01, None); CNN-GRU; TC(0.0); WindowSize(20); BATCH_SIZE10; GAMMA0.7; EPS0.1; REPLAY_MEMORY_SIZE20; C5; N_SARSA10.pkl'\n",
    "# file_name = 'GE; DATA_KIND(LSTMSequential); Dates(None, 2015-01-01, None); CNN-GRU; TC(0); WindowSize(15); BATCH_SIZE10; GAMMA0.7; EPS0.1; REPLAY_MEMORY_SIZE20; C5; N_SARSA10.pkl'\n",
    "# file_name = 'HSI; DATA_KIND(LSTMSequential); Dates(None, 2015-01-01, None); CNN-GRU; TC(0); WindowSize(15); BATCH_SIZE10; GAMMA0.7; EPS0.1; REPLAY_MEMORY_SIZE20; C5; N_SARSA10.pkl'\n",
    "# file_name = 'AAL; DATA_KIND(LSTMSequential); Dates(None, 2018-01-01, None); CNN-GRU; TC(0); WindowSize(10); BATCH_SIZE10; GAMMA0.7; EPS0.1; REPLAY_MEMORY_SIZE20; C5; N_SARSA10.pkl'\n",
    "\n",
    "ev_cnn_gru = cnn_gru_agent.test(file_name=file_name, action_name=dataTrain_sequential.action_name,\n",
    "                                  initial_investment=initial_investment, test_type='train')\n",
    "cnn_gru_portfolio_train = ev_cnn_gru.get_daily_portfolio_value()\n",
    "ev_cnn_gru = cnn_gru_agent.test(file_name=file_name, action_name=dataTrain_sequential.action_name,\n",
    "                                  initial_investment=initial_investment, test_type='test')\n",
    "cnn_gru_portfolio_test = ev_cnn_gru.get_daily_portfolio_value()\n",
    "\n",
    "model_kind = 'CNN-GRU'\n",
    "\n",
    "add_train_portfo('CNN-GRU', cnn_gru_portfolio_train)\n",
    "add_test_portfo('CNN-GRU', cnn_gru_portfolio_test)"
   ]
  },
  {
   "cell_type": "markdown",
   "metadata": {},
   "source": [
    "#### Test Window Size"
   ]
  },
  {
   "cell_type": "markdown",
   "metadata": {},
   "source": [
    "The following block is for testing the effect of window-size in the input representation on the performance of the model. Here we assume that we have a set of pretrained models in the `./Objects/CNN-GRU` directory. If you do not have these pretrained models, you should train from scratch and set `file_name = None`. The set of window sizes that are being tested in the experiments are in `window_sizes` list."
   ]
  },
  {
   "cell_type": "code",
   "execution_count": null,
   "metadata": {},
   "outputs": [],
   "source": [
    "hidden_size = 64\n",
    "\n",
    "for window_size in tqdm(window_sizes):\n",
    "    dataTrain_sequential = DataSequential(data_loader.data_train,\n",
    "                               'action_encoder_decoder', device, GAMMA,\n",
    "                               n_step, BATCH_SIZE, window_size, transaction_cost)\n",
    "    dataTest_sequential = DataSequential(data_loader.data_test,\n",
    "                              'action_encoder_decoder', device, GAMMA,\n",
    "                              n_step, BATCH_SIZE, window_size, transaction_cost) \n",
    "    \n",
    "    cnn_gru_agent = cnn_gru(data_loader, dataTrain_sequential, dataTest_sequential, DATASET_NAME, transaction_cost, hidden_size,\n",
    "                        BATCH_SIZE=BATCH_SIZE, GAMMA=GAMMA, EPS=EPS,\n",
    "                        ReplayMemorySize=ReplayMemorySize,\n",
    "                        TARGET_UPDATE=TARGET_UPDATE,\n",
    "                        n_actions=n_actions,\n",
    "                        n_step=n_step,\n",
    "                        window_size=window_size)\n",
    "    \n",
    "    cnn_gru_agent.train(num_episodes)\n",
    "    file_name = None\n",
    "\n",
    "\n",
    "#     file_name = f'GOOGL; DATA_KIND(LSTMSequential); Dates(None, 2018-01-01, None); CNN-GRU; TC(0); WindowSize({window_size}); BATCH_SIZE10; GAMMA0.7; EPS0.1; REPLAY_MEMORY_SIZE20; C5; N_SARSA10(1).pkl'\n",
    "    \n",
    "    ev_cnn_gru = cnn_gru_agent.test(file_name=file_name, action_name=dataTrain_sequential.action_name,\n",
    "                                      initial_investment=initial_investment, test_type='train')\n",
    "    cnn_gru_portfolio_train = ev_cnn_gru.get_daily_portfolio_value()\n",
    "    ev_cnn_gru = cnn_gru_agent.test(file_name=file_name, action_name=dataTrain_sequential.action_name,\n",
    "                                      initial_investment=initial_investment, test_type='test')\n",
    "    cnn_gru_portfolio_test = ev_cnn_gru.get_daily_portfolio_value()\n",
    "\n",
    "    add_train_portfo('CNN-GRU', cnn_gru_portfolio_train)\n",
    "    add_test_portfo('CNN-GRU', cnn_gru_portfolio_test)\n",
    "    \n",
    "    if 'CNN-GRU' not in window_size_experiment.keys():\n",
    "        window_size_experiment['CNN-GRU'] = {}\n",
    "\n",
    "    window_size_experiment['CNN-GRU'][window_size] = \\\n",
    "        ((test_portfolios['CNN-GRU'][-1] - test_portfolios['CNN-GRU'][0])/test_portfolios['CNN-GRU'][0] * 100)"
   ]
  },
  {
   "cell_type": "markdown",
   "metadata": {},
   "source": [
    "### CNN with Attention"
   ]
  },
  {
   "cell_type": "code",
   "execution_count": null,
   "metadata": {},
   "outputs": [],
   "source": [
    "attn_output_size = hidden_size\n",
    "\n",
    "cnn_attn_agent = cnn_attn(data_loader, dataTrain_sequential, dataTest_sequential, DATASET_NAME, transaction_cost, attn_output_size, \n",
    "                    BATCH_SIZE=BATCH_SIZE, GAMMA=GAMMA, EPS=EPS,\n",
    "                    ReplayMemorySize=ReplayMemorySize,\n",
    "                    TARGET_UPDATE=TARGET_UPDATE,\n",
    "                    n_actions=n_actions,\n",
    "                    n_step=n_step,\n",
    "                    window_size=window_size)\n",
    "\n",
    "cnn_attn_agent.train(num_episodes)\n",
    "file_name = None\n",
    "\n",
    "# file_name = 'GOOGL; DATA_KIND(LSTMSequential); CNNAttn; PredictionStep(None); WindowSize(20); TRAIN_TEST_SPLIT(True); BATCH_SIZE10; GAMMA0.7; EPSILON0.1; REPLAY_MEMORY_SIZE20; C5; N_SARSA10; EXPERIMENT.pkl'\n",
    "# file_name = 'AAPL; DATA_KIND(LSTMSequential); Dates(2010-01-01, 2018-01-01, 2020-08-24); CNN-ATTN; TC(0); WindowSize(20); BATCH_SIZE10; GAMMA0.7; EPS0.1; REPLAY_MEMORY_SIZE20; C5; N_SARSA10.pkl'\n",
    "# file_name = 'BTC-USD; DATA_KIND(LSTMSequential); CNNAttn; PredictionStep(None); WindowSize(20); TRAIN_TEST_SPLIT(True); BATCH_SIZE10; GAMMA0.7; EPSILON0.1; REPLAY_MEMORY_SIZE20; C5; N_SARSA10; EXPERIMENT.pkl'\n",
    "# file_name = 'KSS; DATA_KIND(LSTMSequential); Dates(None, 2018-01-01, None); CNN-ATTN; TC(0.0); WindowSize(20); BATCH_SIZE10; GAMMA0.7; EPS0.1; REPLAY_MEMORY_SIZE20; C5; N_SARSA10.pkl'\n",
    "# file_name = 'GE; DATA_KIND(LSTMSequential); Dates(None, 2015-01-01, None); CNN-ATTN; TC(0); WindowSize(15); BATCH_SIZE10; GAMMA0.7; EPS0.1; REPLAY_MEMORY_SIZE20; C5; N_SARSA10.pkl'\n",
    "# file_name = 'HSI; DATA_KIND(LSTMSequential); Dates(None, 2015-01-01, None); CNN-ATTN; TC(0); WindowSize(15); BATCH_SIZE10; GAMMA0.7; EPS0.1; REPLAY_MEMORY_SIZE20; C5; N_SARSA10.pkl'\n",
    "# file_name = 'AAL; DATA_KIND(LSTMSequential); Dates(None, 2018-01-01, None); CNN-ATTN; TC(0); WindowSize(15); BATCH_SIZE10; GAMMA0.7; EPS0.1; REPLAY_MEMORY_SIZE20; C5; N_SARSA10.pkl'\n",
    "\n",
    "ev_cnn_attn = cnn_attn_agent.test(file_name=file_name, action_name=dataTrain_sequential.action_name,\n",
    "                                  initial_investment=initial_investment, test_type='train')\n",
    "cnn_attn_portfolio_train = ev_cnn_attn.get_daily_portfolio_value()\n",
    "ev_cnn_attn = cnn_attn_agent.test(file_name=file_name, action_name=dataTrain_sequential.action_name,\n",
    "                                  initial_investment=initial_investment, test_type='test')\n",
    "cnn_attn_portfolio_test = ev_cnn_attn.get_daily_portfolio_value()\n",
    "\n",
    "model_kind = 'CNN-ATTN'\n",
    "\n",
    "add_train_portfo('CNN-ATTN', cnn_attn_portfolio_train)\n",
    "add_test_portfo('CNN-ATTN', cnn_attn_portfolio_test)"
   ]
  },
  {
   "cell_type": "markdown",
   "metadata": {},
   "source": [
    "#### Test Window Size"
   ]
  },
  {
   "cell_type": "markdown",
   "metadata": {},
   "source": [
    "The following block is for testing the effect of window-size in the input representation on the performance of the model. Here we assume that we have a set of pretrained models in the `./Objects/CNNAttn` directory. If you do not have these pretrained models, you should train from scratch and set `file_name = None`. The set of window sizes that are being tested in the experiments are in `window_sizes` list."
   ]
  },
  {
   "cell_type": "code",
   "execution_count": null,
   "metadata": {},
   "outputs": [],
   "source": [
    "attn_output_size = hidden_size\n",
    "\n",
    "for window_size in tqdm(window_sizes):\n",
    "    dataTrain_sequential = DataSequential(data_loader.data_train,\n",
    "                               'action_encoder_decoder', device, GAMMA,\n",
    "                               n_step, BATCH_SIZE, window_size, transaction_cost)\n",
    "    dataTest_sequential = DataSequential(data_loader.data_test,\n",
    "                              'action_encoder_decoder', device, GAMMA,\n",
    "                              n_step, BATCH_SIZE, window_size, transaction_cost) \n",
    "    \n",
    "    cnn_attn_agent = cnn_attn(data_loader, dataTrain_sequential, dataTest_sequential, DATASET_NAME, transaction_cost, attn_output_size, \n",
    "                        BATCH_SIZE=BATCH_SIZE, GAMMA=GAMMA, EPS=EPS,\n",
    "                        ReplayMemorySize=ReplayMemorySize,\n",
    "                        TARGET_UPDATE=TARGET_UPDATE,\n",
    "                        n_actions=n_actions,\n",
    "                        n_step=n_step,\n",
    "                        window_size=window_size)\n",
    "    \n",
    "    cnn_attn_agent.train(num_episodes)\n",
    "    file_name = None\n",
    "\n",
    "#     file_name = f'BTC-USD; DATA_KIND(LSTMSequential); Dates(None, 2018-01-01, None); CNN-ATTN; TC(0); WindowSize({window_size}); BATCH_SIZE10; GAMMA0.7; EPS0.1; REPLAY_MEMORY_SIZE20; C5; N_SARSA10(1).pkl'\n",
    "    \n",
    "    ev_cnn_attn = cnn_attn_agent.test(file_name=file_name, action_name=dataTrain_sequential.action_name,\n",
    "                                      initial_investment=initial_investment, test_type='train')\n",
    "    cnn_attn_portfolio_train = ev_cnn_attn.get_daily_portfolio_value()\n",
    "    ev_cnn_attn = cnn_attn_agent.test(file_name=file_name, action_name=dataTrain_sequential.action_name,\n",
    "                                      initial_investment=initial_investment, test_type='test')\n",
    "    cnn_attn_portfolio_test = ev_cnn_attn.get_daily_portfolio_value()\n",
    "\n",
    "    add_train_portfo('CNN-ATTN', cnn_attn_portfolio_train)\n",
    "    add_test_portfo('CNN-ATTN', cnn_attn_portfolio_test)\n",
    "\n",
    "    if 'CNN-ATTN' not in window_size_experiment.keys():\n",
    "        window_size_experiment['CNN-ATTN'] = {}\n",
    "\n",
    "    window_size_experiment['CNN-ATTN'][window_size] = \\\n",
    "        ((test_portfolios['CNN-ATTN'][-1] - test_portfolios['CNN-ATTN'][0])/test_portfolios['CNN-ATTN'][0] * 100)\n",
    "    "
   ]
  },
  {
   "cell_type": "markdown",
   "metadata": {},
   "source": [
    "## Rule Based"
   ]
  },
  {
   "cell_type": "markdown",
   "metadata": {},
   "source": [
    "The rule-base agent that uses a set of rules for generating trading strategies. You can find the explanation about this agent in both the paper and the README file."
   ]
  },
  {
   "cell_type": "code",
   "execution_count": null,
   "metadata": {},
   "outputs": [],
   "source": [
    "ev_RuleBased = Evaluation(dataTrain_patternBased.data, 'action', 1000)\n",
    "print('train')\n",
    "ev_RuleBased.evaluate()\n",
    "ruleBased_portfolio_train = ev_RuleBased.get_daily_portfolio_value()\n",
    "ev_RuleBased = Evaluation(dataTest_patternBased.data, 'action', 1000)\n",
    "print('test')\n",
    "ev_RuleBased.evaluate()\n",
    "ruleBased_portfolio_test = ev_RuleBased.get_daily_portfolio_value()\n",
    "\n",
    "add_train_portfo('Rule-Based', ruleBased_portfolio_train)\n",
    "add_test_portfo('Rule-Based', ruleBased_portfolio_test)"
   ]
  },
  {
   "cell_type": "markdown",
   "metadata": {
    "pycharm": {
     "name": "#%% md\n"
    }
   },
   "source": [
    "## Buy and Hold"
   ]
  },
  {
   "cell_type": "markdown",
   "metadata": {},
   "source": [
    "Buy the stock in the beginning of the process and hold it until the end without selling."
   ]
  },
  {
   "cell_type": "code",
   "execution_count": null,
   "metadata": {
    "pycharm": {
     "name": "#%%\n"
    }
   },
   "outputs": [],
   "source": [
    "dataTrain_patternBased.data[dataTrain_patternBased.action_name] = 'buy'\n",
    "ev_BandH = Evaluation(dataTrain_patternBased.data, dataTrain_patternBased.action_name, initial_investment)\n",
    "print('train')\n",
    "ev_BandH.evaluate()\n",
    "BandH_portfolio_train = ev_BandH.get_daily_portfolio_value()\n",
    "\n",
    "dataTest_patternBased.data[dataTest_patternBased.action_name] = 'buy'\n",
    "ev_BandH = Evaluation(dataTest_patternBased.data, dataTest_patternBased.action_name, initial_investment)\n",
    "print('test')\n",
    "ev_BandH.evaluate()\n",
    "BandH_portfolio_test = ev_BandH.get_daily_portfolio_value()\n",
    "\n",
    "add_train_portfo('B&H', BandH_portfolio_train)\n",
    "add_test_portfo('B&H', BandH_portfolio_test)"
   ]
  },
  {
   "cell_type": "markdown",
   "metadata": {},
   "source": [
    "## Diagrams"
   ]
  },
  {
   "cell_type": "markdown",
   "metadata": {},
   "source": [
    "In the blocks related to `Action List`, you can represent the strategies generated by each model on a diagram. In order to do so, you should first run the block related to that model in the above, then run one of the blocks for related to `Action List` for plotting the strategy devised by that specific model."
   ]
  },
  {
   "cell_type": "markdown",
   "metadata": {},
   "source": [
    "### Action List on candlestick chart"
   ]
  },
  {
   "cell_type": "markdown",
   "metadata": {},
   "source": [
    "Here, in order to plot a better representation, we limit the number of canldlestick in each plot to 100. You can increase or decrease this amount by changing the values of `begin` and `end` in the following block. The `begin` and `end` are indices to the original data to select the interval of data you want to see it's trading strategy."
   ]
  },
  {
   "cell_type": "code",
   "execution_count": 15,
   "metadata": {},
   "outputs": [],
   "source": [
    "begin = 0\n",
    "end =150"
   ]
  },
  {
   "cell_type": "code",
   "execution_count": 16,
   "metadata": {},
   "outputs": [],
   "source": [
    "# data_test = dataTest_autoPatternExtractionAgent\n",
    "data_test = dataTest_autoPatternExtractionAgent_windowed\n",
    "# data_test = dataTest_sequential"
   ]
  },
  {
   "cell_type": "code",
   "execution_count": null,
   "metadata": {},
   "outputs": [],
   "source": [
    "# data_test.data[data_test.data[data_test.action_name] == 'None']"
   ]
  },
  {
   "cell_type": "code",
   "execution_count": 17,
   "metadata": {},
   "outputs": [
    {
     "data": {
      "text/html": [
       "<html>\n",
       "<head><meta charset=\"utf-8\" /></head>\n",
       "<body>\n",
       "    <div>            <script src=\"https://cdnjs.cloudflare.com/ajax/libs/mathjax/2.7.5/MathJax.js?config=TeX-AMS-MML_SVG\"></script><script type=\"text/javascript\">if (window.MathJax) {MathJax.Hub.Config({SVG: {font: \"STIX-Web\"}});}</script>                <script type=\"text/javascript\">window.PlotlyConfig = {MathJaxConfig: 'local'};</script>\n",
       "        <script src=\"https://cdn.plot.ly/plotly-2.8.3.min.js\"></script>                <div id=\"35d5366c-c94b-46de-8ce4-1211d7554651\" class=\"plotly-graph-div\" style=\"height:600px; width:900px;\"></div>            <script type=\"text/javascript\">                                    window.PLOTLYENV=window.PLOTLYENV || {};                                    if (document.getElementById(\"35d5366c-c94b-46de-8ce4-1211d7554651\")) {                    Plotly.newPlot(                        \"35d5366c-c94b-46de-8ce4-1211d7554651\",                        [{\"close\":[53805.984375,53967.847656,54968.222656,54771.578125,57484.789063,56041.058594,57401.097656,57321.523438,61593.949219,60892.179688,61553.617188,62026.078125,64261.992188,65992.835938,62210.171875,60692.265625,61393.617188,60930.835938,63039.824219,60363.792969,58482.386719,60622.136719,62227.964844,61888.832031,61318.957031,61004.40625,63226.402344,62970.046875,61452.230469,61125.675781,61527.480469,63326.988281,67566.828125,66971.828125,64995.230469,64949.960938,64155.941406,64469.527344,65466.839844,63557.871094,60161.246094,60368.011719,56942.136719,58119.578125,59697.195313,58730.476563,56289.289063,57569.074219,56280.425781,57274.679688,53569.765625,54815.078125,57248.457031,57806.566406,57005.425781,57229.828125,56477.816406,53598.246094,49200.703125,49368.847656,50582.625,50700.085938,50504.796875,47672.121094,47243.304688,49362.507813,50098.335938,46737.480469,46612.632813,48896.722656,47665.425781,46202.144531,46848.777344,46707.015625,46880.277344,48936.613281,48628.511719,50784.539063,50822.195313,50429.859375,50809.515625,50640.417969,47588.855469,46444.710938,47178.125,46306.445313,47686.8125,47345.21875,46458.117188,45897.574219,43569.003906,43160.929688,41557.902344,41733.941406,41911.601563,41821.261719,42735.855469,43949.101563,42591.570313,43099.699219,43177.398438,43113.878906,42250.550781,42375.632813,41744.328125,40680.417969,36457.316406,35030.25,36276.804688,36654.328125,36954.003906,36852.121094,37138.234375,37784.332031,38138.179688,37917.601563,38483.125,38743.273438,36952.984375,37154.601563,41500.875,41441.164063,42412.433594,43840.285156,44118.445313,44338.796875,43565.113281,42407.9375,42244.46875,42197.515625,42586.917969,44575.203125,43961.859375,40538.011719,40030.976563,40122.15625,38431.378906,37075.28125,38286.027344,37296.570313,38332.609375,39214.21875,39105.148438,37709.785156,43193.234375,44354.636719,43924.117188,42451.789063,39137.605469,39400.585938],\"decreasing\":{\"line\":{\"color\":\"#ff6961\"}},\"high\":[55338.625,55922.980469,55397.945313,56401.304688,57793.039063,57627.878906,57688.660156,58478.734375,62757.128906,62274.476563,61645.523438,62614.660156,64434.535156,66930.390625,66600.546875,63715.023438,61743.878906,61505.804688,63729.324219,63229.027344,61435.183594,62128.632813,62927.609375,62330.144531,62406.171875,62419.003906,64242.792969,63516.9375,63123.289063,62541.46875,61590.683594,63326.988281,67673.742188,68530.335938,68789.625,65579.015625,65460.816406,64915.675781,65495.179688,66281.570313,63721.195313,60823.609375,60948.5,58351.113281,59859.878906,60004.425781,59266.359375,57875.515625,57803.066406,59367.96875,59183.480469,55329.257813,57393.84375,58872.878906,59113.402344,59041.683594,57349.234375,57482.167969,53904.679688,49768.148438,50929.519531,51934.78125,51171.375,50797.164063,50015.253906,49458.210938,50724.867188,50205.0,48431.398438,49473.957031,49425.574219,48004.894531,47313.828125,48089.664063,47401.71875,49300.917969,49544.796875,51332.339844,51814.027344,51176.597656,51196.378906,51956.328125,50679.859375,48119.742188,47879.964844,48472.527344,47827.3125,47881.40625,47510.726563,47406.546875,46929.046875,43748.71875,43153.570313,42228.941406,42663.949219,42199.484375,43001.15625,44135.367188,44278.421875,43346.6875,43724.671875,43436.808594,43179.390625,42534.402344,42478.304688,43413.023438,41060.527344,36688.8125,36433.3125,37247.519531,37444.570313,38825.410156,37148.324219,37952.878906,38576.261719,38266.339844,38647.261719,39115.132813,38834.617188,37154.601563,41527.785156,41847.164063,42500.785156,44401.863281,45293.867188,44727.800781,45661.171875,43810.832031,42992.550781,42693.054688,42775.777344,44667.21875,44578.277344,44132.972656,40929.152344,40418.878906,40119.890625,39394.4375,38359.855469,39122.394531,38968.839844,39630.324219,40005.347656,39778.941406,43760.457031,44793.601563,45077.578125,44021.578125,42479.613281,39566.335938],\"increasing\":{\"line\":{\"color\":\"lightgreen\"}},\"low\":[53525.46875,53688.054688,53735.144531,54264.257813,54519.765625,54477.972656,54370.972656,56957.074219,56868.144531,60206.121094,59164.46875,60012.757813,61622.933594,63610.675781,62117.410156,60122.796875,59826.523438,59643.34375,60691.800781,59991.160156,58208.1875,58206.917969,60329.964844,60918.386719,60074.328125,59695.183594,60673.054688,61184.238281,60799.664063,60844.609375,60163.78125,61432.488281,63344.066406,66382.0625,63208.113281,64180.488281,62333.914063,63303.734375,63647.808594,63548.144531,59016.335938,58515.410156,56550.792969,55705.179688,57469.726563,58618.929688,55679.839844,55632.761719,55964.222656,57146.683594,53569.765625,53668.355469,53576.734375,56792.527344,56057.28125,56553.082031,55895.132813,52496.585938,42874.617188,47857.496094,47281.035156,50175.808594,48765.988281,47358.351563,47023.699219,46942.347656,48725.851563,45894.847656,46424.496094,46671.964844,47529.878906,45618.214844,45598.441406,46502.953125,45579.808594,46698.773438,48450.941406,48065.835938,50514.496094,50236.707031,49623.105469,50499.46875,47414.210938,46201.496094,46060.3125,45819.953125,46288.484375,46856.9375,45835.964844,45752.464844,42798.222656,42645.539063,41077.445313,40672.277344,41338.160156,39796.570313,41407.753906,42528.988281,42447.042969,41982.617188,42669.035156,42691.023438,41680.320313,41392.214844,41242.914063,40672.824219,35791.425781,34349.25,34784.96875,33184.058594,35779.429688,36374.90625,35629.28125,36211.109375,37406.472656,37437.710938,36733.574219,38113.664063,36832.730469,36375.539063,37093.628906,41038.097656,41244.90625,41748.15625,42807.835938,43232.96875,43402.808594,42114.539063,41852.574219,41950.941406,41681.957031,42491.035156,43456.691406,40249.371094,39637.617188,39713.058594,38112.8125,36950.476563,36488.933594,37201.816406,34459.21875,38111.34375,38702.535156,37268.976563,37518.214844,42952.585938,43432.851563,41914.75,38805.847656,38777.035156],\"open\":[55338.625,53802.144531,53929.78125,54952.820313,54734.125,57526.832031,56038.257813,57372.832031,57345.902344,61609.527344,60887.652344,61548.804688,62043.164063,64284.585938,66002.234375,62237.890625,60694.628906,61368.34375,60893.925781,63032.761719,60352.0,58470.730469,60624.871094,62239.363281,61850.488281,61320.449219,60963.253906,63254.335938,62941.804688,61460.078125,61068.875,61554.921875,63344.066406,67549.734375,66953.335938,64978.890625,64863.980469,64158.121094,64455.371094,65521.289063,63721.195313,60139.621094,60360.136719,56896.128906,58115.082031,59730.507813,58706.847656,56304.554688,57565.851563,57165.417969,58960.285156,53736.429688,54813.023438,57291.90625,57830.113281,56907.964844,57217.371094,56509.164063,53727.878906,49201.519531,49413.480469,50581.828125,50667.648438,50450.082031,47642.144531,47264.632813,49354.855469,50114.742188,46709.824219,48379.753906,48900.464844,47653.730469,46219.253906,46853.867188,46707.0625,46886.078125,48937.097656,48626.34375,50806.050781,50854.917969,50428.691406,50802.609375,50679.859375,47623.871094,46490.605469,47169.371094,46311.746094,47680.925781,47343.542969,46458.851563,45899.359375,43565.511719,43153.570313,41561.464844,41734.726563,41910.230469,41819.507813,42742.179688,43946.742188,42598.871094,43101.898438,43172.039063,43118.121094,42250.074219,42374.039063,41744.027344,40699.605469,36471.589844,35047.359375,36275.734375,36654.804688,36950.515625,36841.878906,37128.445313,37780.714844,38151.917969,37920.28125,38481.765625,38743.714844,36944.804688,37149.265625,41501.480469,41441.121094,42406.78125,43854.652344,44096.703125,44347.800781,43571.128906,42412.300781,42236.566406,42157.398438,42586.464844,44578.277344,43937.070313,40552.132813,40026.023438,40118.101563,38423.210938,37068.769531,38285.28125,37278.566406,38333.746094,39213.082031,39098.699219,37706.0,43194.503906,44357.617188,43925.195313,42458.140625,39148.449219],\"x\":[\"2021-10-07\",\"2021-10-08\",\"2021-10-09\",\"2021-10-10\",\"2021-10-11\",\"2021-10-12\",\"2021-10-13\",\"2021-10-14\",\"2021-10-15\",\"2021-10-16\",\"2021-10-17\",\"2021-10-18\",\"2021-10-19\",\"2021-10-20\",\"2021-10-21\",\"2021-10-22\",\"2021-10-23\",\"2021-10-24\",\"2021-10-25\",\"2021-10-26\",\"2021-10-27\",\"2021-10-28\",\"2021-10-29\",\"2021-10-30\",\"2021-10-31\",\"2021-11-01\",\"2021-11-02\",\"2021-11-03\",\"2021-11-04\",\"2021-11-05\",\"2021-11-06\",\"2021-11-07\",\"2021-11-08\",\"2021-11-09\",\"2021-11-10\",\"2021-11-11\",\"2021-11-12\",\"2021-11-13\",\"2021-11-14\",\"2021-11-15\",\"2021-11-16\",\"2021-11-17\",\"2021-11-18\",\"2021-11-19\",\"2021-11-20\",\"2021-11-21\",\"2021-11-22\",\"2021-11-23\",\"2021-11-24\",\"2021-11-25\",\"2021-11-26\",\"2021-11-27\",\"2021-11-28\",\"2021-11-29\",\"2021-11-30\",\"2021-12-01\",\"2021-12-02\",\"2021-12-03\",\"2021-12-04\",\"2021-12-05\",\"2021-12-06\",\"2021-12-07\",\"2021-12-08\",\"2021-12-09\",\"2021-12-10\",\"2021-12-11\",\"2021-12-12\",\"2021-12-13\",\"2021-12-14\",\"2021-12-15\",\"2021-12-16\",\"2021-12-17\",\"2021-12-18\",\"2021-12-19\",\"2021-12-20\",\"2021-12-21\",\"2021-12-22\",\"2021-12-23\",\"2021-12-24\",\"2021-12-25\",\"2021-12-26\",\"2021-12-27\",\"2021-12-28\",\"2021-12-29\",\"2021-12-30\",\"2021-12-31\",\"2022-01-01\",\"2022-01-02\",\"2022-01-03\",\"2022-01-04\",\"2022-01-05\",\"2022-01-06\",\"2022-01-07\",\"2022-01-08\",\"2022-01-09\",\"2022-01-10\",\"2022-01-11\",\"2022-01-12\",\"2022-01-13\",\"2022-01-14\",\"2022-01-15\",\"2022-01-16\",\"2022-01-17\",\"2022-01-18\",\"2022-01-19\",\"2022-01-20\",\"2022-01-21\",\"2022-01-22\",\"2022-01-23\",\"2022-01-24\",\"2022-01-25\",\"2022-01-26\",\"2022-01-27\",\"2022-01-28\",\"2022-01-29\",\"2022-01-30\",\"2022-01-31\",\"2022-02-01\",\"2022-02-02\",\"2022-02-03\",\"2022-02-04\",\"2022-02-05\",\"2022-02-06\",\"2022-02-07\",\"2022-02-08\",\"2022-02-09\",\"2022-02-10\",\"2022-02-11\",\"2022-02-12\",\"2022-02-13\",\"2022-02-14\",\"2022-02-15\",\"2022-02-16\",\"2022-02-17\",\"2022-02-18\",\"2022-02-19\",\"2022-02-20\",\"2022-02-21\",\"2022-02-22\",\"2022-02-23\",\"2022-02-24\",\"2022-02-25\",\"2022-02-26\",\"2022-02-27\",\"2022-02-28\",\"2022-03-01\",\"2022-03-02\",\"2022-03-03\",\"2022-03-04\",\"2022-03-05\"],\"type\":\"candlestick\"},{\"marker\":{\"color\":\"green\",\"colorscale\":[[0.0,\"#440154\"],[0.1111111111111111,\"#482878\"],[0.2222222222222222,\"#3e4989\"],[0.3333333333333333,\"#31688e\"],[0.4444444444444444,\"#26828e\"],[0.5555555555555556,\"#1f9e89\"],[0.6666666666666666,\"#35b779\"],[0.7777777777777778,\"#6ece58\"],[0.8888888888888888,\"#b5de2b\"],[1.0,\"#fde725\"]]},\"mode\":\"markers\",\"name\":\"buy\",\"x\":[\"2021-10-07\",\"2021-10-08\",\"2021-10-09\",\"2021-10-10\",\"2021-10-11\",\"2021-10-12\",\"2021-10-13\",\"2021-10-14\",\"2021-10-15\",\"2021-10-16\",\"2021-10-17\",\"2021-10-18\",\"2021-10-19\",\"2021-10-20\",\"2021-10-21\",\"2021-10-22\",\"2021-10-23\",\"2021-10-24\",\"2021-10-25\",\"2021-10-26\",\"2021-10-27\",\"2021-10-28\",\"2021-10-29\",\"2021-10-30\",\"2021-10-31\",\"2021-11-01\",\"2021-11-02\",\"2021-11-03\",\"2021-11-04\",\"2021-11-05\",\"2021-11-06\",\"2021-11-07\",\"2021-11-08\",\"2021-11-09\",\"2021-11-10\",\"2021-11-11\",\"2021-11-12\",\"2021-11-13\",\"2021-11-14\",\"2021-11-15\",\"2021-11-16\",\"2021-11-17\",\"2021-11-18\",\"2021-11-19\",\"2021-11-20\",\"2021-11-21\",\"2021-11-22\",\"2021-11-23\",\"2021-11-24\",\"2021-11-25\",\"2021-11-26\",\"2021-11-27\",\"2021-11-28\",\"2021-11-29\",\"2021-11-30\",\"2021-12-01\",\"2021-12-02\",\"2021-12-03\",\"2021-12-04\",\"2021-12-05\",\"2021-12-06\",\"2021-12-07\",\"2021-12-08\",\"2021-12-09\",\"2021-12-10\",\"2021-12-11\",\"2021-12-12\",\"2021-12-13\",\"2021-12-14\",\"2021-12-15\",\"2021-12-16\",\"2021-12-17\",\"2021-12-18\",\"2021-12-19\",\"2021-12-20\",\"2021-12-21\",\"2021-12-22\",\"2021-12-23\",\"2021-12-24\",\"2021-12-25\",\"2021-12-26\",\"2021-12-27\",\"2021-12-28\",\"2021-12-29\",\"2021-12-30\",\"2021-12-31\",\"2022-01-01\",\"2022-01-02\",\"2022-01-03\",\"2022-01-04\",\"2022-01-05\",\"2022-01-06\",\"2022-01-07\",\"2022-01-08\",\"2022-01-09\",\"2022-01-10\",\"2022-01-11\",\"2022-01-12\",\"2022-01-13\",\"2022-01-14\",\"2022-01-15\",\"2022-01-16\",\"2022-01-17\",\"2022-01-18\",\"2022-01-19\",\"2022-01-20\",\"2022-01-21\",\"2022-01-22\",\"2022-01-23\",\"2022-01-24\",\"2022-01-25\",\"2022-01-26\",\"2022-01-27\",\"2022-01-28\",\"2022-01-29\",\"2022-01-30\",\"2022-01-31\",\"2022-02-01\",\"2022-02-02\",\"2022-02-03\",\"2022-02-04\",\"2022-02-05\",\"2022-02-06\",\"2022-02-07\",\"2022-02-08\",\"2022-02-09\",\"2022-02-10\",\"2022-02-11\",\"2022-02-12\",\"2022-02-13\",\"2022-02-14\",\"2022-02-15\",\"2022-02-16\",\"2022-02-17\",\"2022-02-18\",\"2022-02-19\",\"2022-02-20\",\"2022-02-21\",\"2022-02-22\",\"2022-02-23\",\"2022-02-24\",\"2022-02-25\",\"2022-02-26\",\"2022-02-27\",\"2022-02-28\",\"2022-03-01\",\"2022-03-02\",\"2022-03-03\",\"2022-03-04\",\"2022-03-05\"],\"y\":[null,null,null,null,null,null,null,null,null,null,null,null,null,null,null,null,null,null,null,null,null,59546.433594,61426.417969,62064.097656,61584.722656,61162.4277345,62094.828125,null,null,null,61298.1777345,62440.955078,65455.4472655,67260.78125,null,null,null,null,null,null,null,null,null,57507.8535155,58906.138672,59230.492188,57498.0683595,56936.8144535,56923.138672,57220.0488285,null,54275.7539065,56030.7402345,57549.236328,null,null,null,null,51464.2910155,49285.1835935,null,null,null,null,null,48313.570313,49726.5957035,48426.1113285,46661.228516,48638.238281,null,null,46534.015625,46780.4414065,46793.669922,47911.345703,48782.8046875,49705.4414065,null,null,null,null,null,47034.291016,46834.3652345,46737.9082035,46999.279297,null,46900.8300785,46178.212891,null,null,null,null,41823.164063,41865.746094,42277.681641,43345.6406255,43269.1562505,42849.2851565,null,null,null,null,null,null,null,35750.919922,35662.0820315,36465.03125,36804.404297,null,null,null,null,null,38201.703125,38612.5195315,37848.3496095,37049.7031255,39325.0703125,41471.322266,41926.777344,43123.533203,null,null,null,null,null,42217.0410155,null,null,null,null,40291.554688,40074.089844,39274.7402345,37749.246094,37677.3984375,37790.9257815,37805.5878905,38773.982422,39159.1152345,38404.2421875,40449.6171875,43774.5703125,null,null,null,null],\"type\":\"scatter\"},{\"marker\":{\"color\":\"blue\",\"colorscale\":[[0.0,\"#440154\"],[0.1111111111111111,\"#482878\"],[0.2222222222222222,\"#3e4989\"],[0.3333333333333333,\"#31688e\"],[0.4444444444444444,\"#26828e\"],[0.5555555555555556,\"#1f9e89\"],[0.6666666666666666,\"#35b779\"],[0.7777777777777778,\"#6ece58\"],[0.8888888888888888,\"#b5de2b\"],[1.0,\"#fde725\"]]},\"mode\":\"markers\",\"name\":\"none\",\"x\":[\"2021-10-07\",\"2021-10-08\",\"2021-10-09\",\"2021-10-10\",\"2021-10-11\",\"2021-10-12\",\"2021-10-13\",\"2021-10-14\",\"2021-10-15\",\"2021-10-16\",\"2021-10-17\",\"2021-10-18\",\"2021-10-19\",\"2021-10-20\",\"2021-10-21\",\"2021-10-22\",\"2021-10-23\",\"2021-10-24\",\"2021-10-25\",\"2021-10-26\",\"2021-10-27\",\"2021-10-28\",\"2021-10-29\",\"2021-10-30\",\"2021-10-31\",\"2021-11-01\",\"2021-11-02\",\"2021-11-03\",\"2021-11-04\",\"2021-11-05\",\"2021-11-06\",\"2021-11-07\",\"2021-11-08\",\"2021-11-09\",\"2021-11-10\",\"2021-11-11\",\"2021-11-12\",\"2021-11-13\",\"2021-11-14\",\"2021-11-15\",\"2021-11-16\",\"2021-11-17\",\"2021-11-18\",\"2021-11-19\",\"2021-11-20\",\"2021-11-21\",\"2021-11-22\",\"2021-11-23\",\"2021-11-24\",\"2021-11-25\",\"2021-11-26\",\"2021-11-27\",\"2021-11-28\",\"2021-11-29\",\"2021-11-30\",\"2021-12-01\",\"2021-12-02\",\"2021-12-03\",\"2021-12-04\",\"2021-12-05\",\"2021-12-06\",\"2021-12-07\",\"2021-12-08\",\"2021-12-09\",\"2021-12-10\",\"2021-12-11\",\"2021-12-12\",\"2021-12-13\",\"2021-12-14\",\"2021-12-15\",\"2021-12-16\",\"2021-12-17\",\"2021-12-18\",\"2021-12-19\",\"2021-12-20\",\"2021-12-21\",\"2021-12-22\",\"2021-12-23\",\"2021-12-24\",\"2021-12-25\",\"2021-12-26\",\"2021-12-27\",\"2021-12-28\",\"2021-12-29\",\"2021-12-30\",\"2021-12-31\",\"2022-01-01\",\"2022-01-02\",\"2022-01-03\",\"2022-01-04\",\"2022-01-05\",\"2022-01-06\",\"2022-01-07\",\"2022-01-08\",\"2022-01-09\",\"2022-01-10\",\"2022-01-11\",\"2022-01-12\",\"2022-01-13\",\"2022-01-14\",\"2022-01-15\",\"2022-01-16\",\"2022-01-17\",\"2022-01-18\",\"2022-01-19\",\"2022-01-20\",\"2022-01-21\",\"2022-01-22\",\"2022-01-23\",\"2022-01-24\",\"2022-01-25\",\"2022-01-26\",\"2022-01-27\",\"2022-01-28\",\"2022-01-29\",\"2022-01-30\",\"2022-01-31\",\"2022-02-01\",\"2022-02-02\",\"2022-02-03\",\"2022-02-04\",\"2022-02-05\",\"2022-02-06\",\"2022-02-07\",\"2022-02-08\",\"2022-02-09\",\"2022-02-10\",\"2022-02-11\",\"2022-02-12\",\"2022-02-13\",\"2022-02-14\",\"2022-02-15\",\"2022-02-16\",\"2022-02-17\",\"2022-02-18\",\"2022-02-19\",\"2022-02-20\",\"2022-02-21\",\"2022-02-22\",\"2022-02-23\",\"2022-02-24\",\"2022-02-25\",\"2022-02-26\",\"2022-02-27\",\"2022-02-28\",\"2022-03-01\",\"2022-03-02\",\"2022-03-03\",\"2022-03-04\",\"2022-03-05\"],\"y\":[54572.3046875,53884.9960935,54449.001953,54862.199219,56109.4570315,56783.9453125,56719.6777345,57347.1777345,59469.9257815,61250.853516,61220.634766,61787.4414065,63152.5781255,65138.710938000004,64106.203125,61465.078125,61044.123047,61149.589844,61966.875,61698.277344,59417.1933595,null,null,null,null,null,null,null,62197.0175785,61292.876953,null,null,null,null,65974.2832035,64964.4257815,64509.9609375,64313.824219,64961.105469,64539.5800785,61941.2207035,60253.8164065,58651.136719,null,null,null,null,null,null,null,56265.0253905,null,null,null,57417.769531,57068.8964845,56847.59375,55053.7050785,null,null,49998.0527345,50640.9570315,50586.2226565,49061.1015625,47442.7246095,null,null,null,null,null,48282.9453125,46927.9375,null,null,null,null,null,null,50814.123047,50642.388672,50619.1035155,50721.513672,null,null,null,null,null,47513.0722655,null,null,44734.1816405,43363.2207035,42355.7363285,41647.703125,null,null,null,null,null,null,43139.648438,43142.9589845,42684.3359375,42312.853516,42059.183594,41212.2226565,38578.4609375,null,null,null,null,36901.3183595,36990.0566405,37456.388672,37959.447266,38034.759766,null,null,null,null,null,null,null,null,null,44217.75,43956.457031,42989.533203,42328.3847655,null,42372.1582035,43580.8339845,44270.0683595,null,null,null,null,null,null,null,null,null,null,null,null,null,44140.867188,43188.492188,40797.873047,null],\"type\":\"scatter\"},{\"marker\":{\"color\":\"red\",\"colorscale\":[[0.0,\"#440154\"],[0.1111111111111111,\"#482878\"],[0.2222222222222222,\"#3e4989\"],[0.3333333333333333,\"#31688e\"],[0.4444444444444444,\"#26828e\"],[0.5555555555555556,\"#1f9e89\"],[0.6666666666666666,\"#35b779\"],[0.7777777777777778,\"#6ece58\"],[0.8888888888888888,\"#b5de2b\"],[1.0,\"#fde725\"]]},\"mode\":\"markers\",\"name\":\"sell\",\"x\":[\"2021-10-07\",\"2021-10-08\",\"2021-10-09\",\"2021-10-10\",\"2021-10-11\",\"2021-10-12\",\"2021-10-13\",\"2021-10-14\",\"2021-10-15\",\"2021-10-16\",\"2021-10-17\",\"2021-10-18\",\"2021-10-19\",\"2021-10-20\",\"2021-10-21\",\"2021-10-22\",\"2021-10-23\",\"2021-10-24\",\"2021-10-25\",\"2021-10-26\",\"2021-10-27\",\"2021-10-28\",\"2021-10-29\",\"2021-10-30\",\"2021-10-31\",\"2021-11-01\",\"2021-11-02\",\"2021-11-03\",\"2021-11-04\",\"2021-11-05\",\"2021-11-06\",\"2021-11-07\",\"2021-11-08\",\"2021-11-09\",\"2021-11-10\",\"2021-11-11\",\"2021-11-12\",\"2021-11-13\",\"2021-11-14\",\"2021-11-15\",\"2021-11-16\",\"2021-11-17\",\"2021-11-18\",\"2021-11-19\",\"2021-11-20\",\"2021-11-21\",\"2021-11-22\",\"2021-11-23\",\"2021-11-24\",\"2021-11-25\",\"2021-11-26\",\"2021-11-27\",\"2021-11-28\",\"2021-11-29\",\"2021-11-30\",\"2021-12-01\",\"2021-12-02\",\"2021-12-03\",\"2021-12-04\",\"2021-12-05\",\"2021-12-06\",\"2021-12-07\",\"2021-12-08\",\"2021-12-09\",\"2021-12-10\",\"2021-12-11\",\"2021-12-12\",\"2021-12-13\",\"2021-12-14\",\"2021-12-15\",\"2021-12-16\",\"2021-12-17\",\"2021-12-18\",\"2021-12-19\",\"2021-12-20\",\"2021-12-21\",\"2021-12-22\",\"2021-12-23\",\"2021-12-24\",\"2021-12-25\",\"2021-12-26\",\"2021-12-27\",\"2021-12-28\",\"2021-12-29\",\"2021-12-30\",\"2021-12-31\",\"2022-01-01\",\"2022-01-02\",\"2022-01-03\",\"2022-01-04\",\"2022-01-05\",\"2022-01-06\",\"2022-01-07\",\"2022-01-08\",\"2022-01-09\",\"2022-01-10\",\"2022-01-11\",\"2022-01-12\",\"2022-01-13\",\"2022-01-14\",\"2022-01-15\",\"2022-01-16\",\"2022-01-17\",\"2022-01-18\",\"2022-01-19\",\"2022-01-20\",\"2022-01-21\",\"2022-01-22\",\"2022-01-23\",\"2022-01-24\",\"2022-01-25\",\"2022-01-26\",\"2022-01-27\",\"2022-01-28\",\"2022-01-29\",\"2022-01-30\",\"2022-01-31\",\"2022-02-01\",\"2022-02-02\",\"2022-02-03\",\"2022-02-04\",\"2022-02-05\",\"2022-02-06\",\"2022-02-07\",\"2022-02-08\",\"2022-02-09\",\"2022-02-10\",\"2022-02-11\",\"2022-02-12\",\"2022-02-13\",\"2022-02-14\",\"2022-02-15\",\"2022-02-16\",\"2022-02-17\",\"2022-02-18\",\"2022-02-19\",\"2022-02-20\",\"2022-02-21\",\"2022-02-22\",\"2022-02-23\",\"2022-02-24\",\"2022-02-25\",\"2022-02-26\",\"2022-02-27\",\"2022-02-28\",\"2022-03-01\",\"2022-03-02\",\"2022-03-03\",\"2022-03-04\",\"2022-03-05\"],\"y\":[null,null,null,null,null,null,null,null,null,null,null,null,null,null,null,null,null,null,null,null,null,null,null,null,null,null,null,63112.1914065,null,null,null,null,null,null,null,null,null,null,null,null,null,null,null,null,null,null,null,null,null,null,null,null,null,null,null,null,null,null,null,null,null,null,null,null,null,null,null,null,null,null,null,null,null,null,null,null,null,null,null,null,null,null,49134.357422,null,null,null,null,null,null,null,null,null,null,null,null,null,null,null,null,null,null,null,null,null,null,null,null,null,null,null,null,null,null,null,null,null,null,null,null,null,null,null,null,null,43986.5488285,null,null,null,null,null,null,null,null,42237.541016,null,null,null,null,null,null,null,null,null,null,null,null,null,null,null,39274.5175785],\"type\":\"scatter\"}],                        {\"autosize\":false,\"height\":600,\"width\":900,\"template\":{\"data\":{\"bar\":[{\"error_x\":{\"color\":\"#2a3f5f\"},\"error_y\":{\"color\":\"#2a3f5f\"},\"marker\":{\"line\":{\"color\":\"#E5ECF6\",\"width\":0.5},\"pattern\":{\"fillmode\":\"overlay\",\"size\":10,\"solidity\":0.2}},\"type\":\"bar\"}],\"barpolar\":[{\"marker\":{\"line\":{\"color\":\"#E5ECF6\",\"width\":0.5},\"pattern\":{\"fillmode\":\"overlay\",\"size\":10,\"solidity\":0.2}},\"type\":\"barpolar\"}],\"carpet\":[{\"aaxis\":{\"endlinecolor\":\"#2a3f5f\",\"gridcolor\":\"white\",\"linecolor\":\"white\",\"minorgridcolor\":\"white\",\"startlinecolor\":\"#2a3f5f\"},\"baxis\":{\"endlinecolor\":\"#2a3f5f\",\"gridcolor\":\"white\",\"linecolor\":\"white\",\"minorgridcolor\":\"white\",\"startlinecolor\":\"#2a3f5f\"},\"type\":\"carpet\"}],\"choropleth\":[{\"colorbar\":{\"outlinewidth\":0,\"ticks\":\"\"},\"type\":\"choropleth\"}],\"contour\":[{\"colorbar\":{\"outlinewidth\":0,\"ticks\":\"\"},\"colorscale\":[[0.0,\"#0d0887\"],[0.1111111111111111,\"#46039f\"],[0.2222222222222222,\"#7201a8\"],[0.3333333333333333,\"#9c179e\"],[0.4444444444444444,\"#bd3786\"],[0.5555555555555556,\"#d8576b\"],[0.6666666666666666,\"#ed7953\"],[0.7777777777777778,\"#fb9f3a\"],[0.8888888888888888,\"#fdca26\"],[1.0,\"#f0f921\"]],\"type\":\"contour\"}],\"contourcarpet\":[{\"colorbar\":{\"outlinewidth\":0,\"ticks\":\"\"},\"type\":\"contourcarpet\"}],\"heatmap\":[{\"colorbar\":{\"outlinewidth\":0,\"ticks\":\"\"},\"colorscale\":[[0.0,\"#0d0887\"],[0.1111111111111111,\"#46039f\"],[0.2222222222222222,\"#7201a8\"],[0.3333333333333333,\"#9c179e\"],[0.4444444444444444,\"#bd3786\"],[0.5555555555555556,\"#d8576b\"],[0.6666666666666666,\"#ed7953\"],[0.7777777777777778,\"#fb9f3a\"],[0.8888888888888888,\"#fdca26\"],[1.0,\"#f0f921\"]],\"type\":\"heatmap\"}],\"heatmapgl\":[{\"colorbar\":{\"outlinewidth\":0,\"ticks\":\"\"},\"colorscale\":[[0.0,\"#0d0887\"],[0.1111111111111111,\"#46039f\"],[0.2222222222222222,\"#7201a8\"],[0.3333333333333333,\"#9c179e\"],[0.4444444444444444,\"#bd3786\"],[0.5555555555555556,\"#d8576b\"],[0.6666666666666666,\"#ed7953\"],[0.7777777777777778,\"#fb9f3a\"],[0.8888888888888888,\"#fdca26\"],[1.0,\"#f0f921\"]],\"type\":\"heatmapgl\"}],\"histogram\":[{\"marker\":{\"pattern\":{\"fillmode\":\"overlay\",\"size\":10,\"solidity\":0.2}},\"type\":\"histogram\"}],\"histogram2d\":[{\"colorbar\":{\"outlinewidth\":0,\"ticks\":\"\"},\"colorscale\":[[0.0,\"#0d0887\"],[0.1111111111111111,\"#46039f\"],[0.2222222222222222,\"#7201a8\"],[0.3333333333333333,\"#9c179e\"],[0.4444444444444444,\"#bd3786\"],[0.5555555555555556,\"#d8576b\"],[0.6666666666666666,\"#ed7953\"],[0.7777777777777778,\"#fb9f3a\"],[0.8888888888888888,\"#fdca26\"],[1.0,\"#f0f921\"]],\"type\":\"histogram2d\"}],\"histogram2dcontour\":[{\"colorbar\":{\"outlinewidth\":0,\"ticks\":\"\"},\"colorscale\":[[0.0,\"#0d0887\"],[0.1111111111111111,\"#46039f\"],[0.2222222222222222,\"#7201a8\"],[0.3333333333333333,\"#9c179e\"],[0.4444444444444444,\"#bd3786\"],[0.5555555555555556,\"#d8576b\"],[0.6666666666666666,\"#ed7953\"],[0.7777777777777778,\"#fb9f3a\"],[0.8888888888888888,\"#fdca26\"],[1.0,\"#f0f921\"]],\"type\":\"histogram2dcontour\"}],\"mesh3d\":[{\"colorbar\":{\"outlinewidth\":0,\"ticks\":\"\"},\"type\":\"mesh3d\"}],\"parcoords\":[{\"line\":{\"colorbar\":{\"outlinewidth\":0,\"ticks\":\"\"}},\"type\":\"parcoords\"}],\"pie\":[{\"automargin\":true,\"type\":\"pie\"}],\"scatter\":[{\"marker\":{\"colorbar\":{\"outlinewidth\":0,\"ticks\":\"\"}},\"type\":\"scatter\"}],\"scatter3d\":[{\"line\":{\"colorbar\":{\"outlinewidth\":0,\"ticks\":\"\"}},\"marker\":{\"colorbar\":{\"outlinewidth\":0,\"ticks\":\"\"}},\"type\":\"scatter3d\"}],\"scattercarpet\":[{\"marker\":{\"colorbar\":{\"outlinewidth\":0,\"ticks\":\"\"}},\"type\":\"scattercarpet\"}],\"scattergeo\":[{\"marker\":{\"colorbar\":{\"outlinewidth\":0,\"ticks\":\"\"}},\"type\":\"scattergeo\"}],\"scattergl\":[{\"marker\":{\"colorbar\":{\"outlinewidth\":0,\"ticks\":\"\"}},\"type\":\"scattergl\"}],\"scattermapbox\":[{\"marker\":{\"colorbar\":{\"outlinewidth\":0,\"ticks\":\"\"}},\"type\":\"scattermapbox\"}],\"scatterpolar\":[{\"marker\":{\"colorbar\":{\"outlinewidth\":0,\"ticks\":\"\"}},\"type\":\"scatterpolar\"}],\"scatterpolargl\":[{\"marker\":{\"colorbar\":{\"outlinewidth\":0,\"ticks\":\"\"}},\"type\":\"scatterpolargl\"}],\"scatterternary\":[{\"marker\":{\"colorbar\":{\"outlinewidth\":0,\"ticks\":\"\"}},\"type\":\"scatterternary\"}],\"surface\":[{\"colorbar\":{\"outlinewidth\":0,\"ticks\":\"\"},\"colorscale\":[[0.0,\"#0d0887\"],[0.1111111111111111,\"#46039f\"],[0.2222222222222222,\"#7201a8\"],[0.3333333333333333,\"#9c179e\"],[0.4444444444444444,\"#bd3786\"],[0.5555555555555556,\"#d8576b\"],[0.6666666666666666,\"#ed7953\"],[0.7777777777777778,\"#fb9f3a\"],[0.8888888888888888,\"#fdca26\"],[1.0,\"#f0f921\"]],\"type\":\"surface\"}],\"table\":[{\"cells\":{\"fill\":{\"color\":\"#EBF0F8\"},\"line\":{\"color\":\"white\"}},\"header\":{\"fill\":{\"color\":\"#C8D4E3\"},\"line\":{\"color\":\"white\"}},\"type\":\"table\"}]},\"layout\":{\"annotationdefaults\":{\"arrowcolor\":\"#2a3f5f\",\"arrowhead\":0,\"arrowwidth\":1},\"autotypenumbers\":\"strict\",\"coloraxis\":{\"colorbar\":{\"outlinewidth\":0,\"ticks\":\"\"}},\"colorscale\":{\"diverging\":[[0,\"#8e0152\"],[0.1,\"#c51b7d\"],[0.2,\"#de77ae\"],[0.3,\"#f1b6da\"],[0.4,\"#fde0ef\"],[0.5,\"#f7f7f7\"],[0.6,\"#e6f5d0\"],[0.7,\"#b8e186\"],[0.8,\"#7fbc41\"],[0.9,\"#4d9221\"],[1,\"#276419\"]],\"sequential\":[[0.0,\"#0d0887\"],[0.1111111111111111,\"#46039f\"],[0.2222222222222222,\"#7201a8\"],[0.3333333333333333,\"#9c179e\"],[0.4444444444444444,\"#bd3786\"],[0.5555555555555556,\"#d8576b\"],[0.6666666666666666,\"#ed7953\"],[0.7777777777777778,\"#fb9f3a\"],[0.8888888888888888,\"#fdca26\"],[1.0,\"#f0f921\"]],\"sequentialminus\":[[0.0,\"#0d0887\"],[0.1111111111111111,\"#46039f\"],[0.2222222222222222,\"#7201a8\"],[0.3333333333333333,\"#9c179e\"],[0.4444444444444444,\"#bd3786\"],[0.5555555555555556,\"#d8576b\"],[0.6666666666666666,\"#ed7953\"],[0.7777777777777778,\"#fb9f3a\"],[0.8888888888888888,\"#fdca26\"],[1.0,\"#f0f921\"]]},\"colorway\":[\"#636efa\",\"#EF553B\",\"#00cc96\",\"#ab63fa\",\"#FFA15A\",\"#19d3f3\",\"#FF6692\",\"#B6E880\",\"#FF97FF\",\"#FECB52\"],\"font\":{\"color\":\"#2a3f5f\"},\"geo\":{\"bgcolor\":\"white\",\"lakecolor\":\"white\",\"landcolor\":\"#E5ECF6\",\"showlakes\":true,\"showland\":true,\"subunitcolor\":\"white\"},\"hoverlabel\":{\"align\":\"left\"},\"hovermode\":\"closest\",\"mapbox\":{\"style\":\"light\"},\"paper_bgcolor\":\"white\",\"plot_bgcolor\":\"#E5ECF6\",\"polar\":{\"angularaxis\":{\"gridcolor\":\"white\",\"linecolor\":\"white\",\"ticks\":\"\"},\"bgcolor\":\"#E5ECF6\",\"radialaxis\":{\"gridcolor\":\"white\",\"linecolor\":\"white\",\"ticks\":\"\"}},\"scene\":{\"xaxis\":{\"backgroundcolor\":\"#E5ECF6\",\"gridcolor\":\"white\",\"gridwidth\":2,\"linecolor\":\"white\",\"showbackground\":true,\"ticks\":\"\",\"zerolinecolor\":\"white\"},\"yaxis\":{\"backgroundcolor\":\"#E5ECF6\",\"gridcolor\":\"white\",\"gridwidth\":2,\"linecolor\":\"white\",\"showbackground\":true,\"ticks\":\"\",\"zerolinecolor\":\"white\"},\"zaxis\":{\"backgroundcolor\":\"#E5ECF6\",\"gridcolor\":\"white\",\"gridwidth\":2,\"linecolor\":\"white\",\"showbackground\":true,\"ticks\":\"\",\"zerolinecolor\":\"white\"}},\"shapedefaults\":{\"line\":{\"color\":\"#2a3f5f\"}},\"ternary\":{\"aaxis\":{\"gridcolor\":\"white\",\"linecolor\":\"white\",\"ticks\":\"\"},\"baxis\":{\"gridcolor\":\"white\",\"linecolor\":\"white\",\"ticks\":\"\"},\"bgcolor\":\"#E5ECF6\",\"caxis\":{\"gridcolor\":\"white\",\"linecolor\":\"white\",\"ticks\":\"\"}},\"title\":{\"x\":0.05},\"xaxis\":{\"automargin\":true,\"gridcolor\":\"white\",\"linecolor\":\"white\",\"ticks\":\"\",\"title\":{\"standoff\":15},\"zerolinecolor\":\"white\",\"zerolinewidth\":2},\"yaxis\":{\"automargin\":true,\"gridcolor\":\"white\",\"linecolor\":\"white\",\"ticks\":\"\",\"title\":{\"standoff\":15},\"zerolinecolor\":\"white\",\"zerolinewidth\":2}}}},                        {\"responsive\": true}                    ).then(function(){\n",
       "                            \n",
       "var gd = document.getElementById('35d5366c-c94b-46de-8ce4-1211d7554651');\n",
       "var x = new MutationObserver(function (mutations, observer) {{\n",
       "        var display = window.getComputedStyle(gd).display;\n",
       "        if (!display || display === 'none') {{\n",
       "            console.log([gd, 'removed!']);\n",
       "            Plotly.purge(gd);\n",
       "            observer.disconnect();\n",
       "        }}\n",
       "}});\n",
       "\n",
       "// Listen for the removal of the full notebook cells\n",
       "var notebookContainer = gd.closest('#notebook-container');\n",
       "if (notebookContainer) {{\n",
       "    x.observe(notebookContainer, {childList: true});\n",
       "}}\n",
       "\n",
       "// Listen for the clearing of the current output cell\n",
       "var outputEl = gd.closest('.output');\n",
       "if (outputEl) {{\n",
       "    x.observe(outputEl, {childList: true});\n",
       "}}\n",
       "\n",
       "                        })                };                            </script>        </div>\n",
       "</body>\n",
       "</html>"
      ]
     },
     "metadata": {},
     "output_type": "display_data"
    }
   ],
   "source": [
    "experiment_num = 1\n",
    "RESULTS_PATH = f'TestResults/ActionList/{model_kind}/'\n",
    "\n",
    "import os\n",
    "if not os.path.exists(RESULTS_PATH):\n",
    "    os.mkdir(RESULTS_PATH)\n",
    "\n",
    "while os.path.exists(f'{RESULTS_PATH}{DATASET_NAME};{model_kind};actions({experiment_num}).svg'):\n",
    "    experiment_num += 1\n",
    "\n",
    "fig_file = f'{RESULTS_PATH}{DATASET_NAME};{model_kind};actions({experiment_num}).svg'\n",
    "\n",
    "scope = PlotlyScope()\n",
    "\n",
    "df1 = data_loader.data_test_with_date[begin:end]\n",
    "actionlist = list(data_test.data[data_test.action_name][begin:end])\n",
    "df1[data_test.action_name] = actionlist\n",
    "\n",
    "buy = df1.copy()\n",
    "sell = df1.copy()\n",
    "none = df1.copy()\n",
    "\n",
    "# buy['action'] = [(c + o)/2 if a == 0 else None for a, o, c in zip(df2.action, df1.open, df1.close)]\n",
    "# sell['action'] = [(c + o)/2 if a == 2 else None for a, o, c in zip(df2.action, df1.open, df1.close)]\n",
    "# none['action'] = [(c + o)/2 if a == 1 else None for a, o, c in zip(df2.action, df1.open, df1.close)]\n",
    "\n",
    "buy['action'] = [(c + o)/2 if a == 'buy' else None for a, o, c in zip(df1[data_test.action_name], df1.open, df1.close)]\n",
    "sell['action'] = [(c + o)/2 if a == 'sell' else None for a, o, c in zip(df1[data_test.action_name], df1.open, df1.close)]\n",
    "none['action'] = [(c + o)/2 if a == 'None' else None for a, o, c in zip(df1[data_test.action_name], df1.open, df1.close)]\n",
    "\n",
    "\n",
    "data=[go.Candlestick(x=df1.index,\n",
    "                open=df1['open'],\n",
    "                high=df1['high'],\n",
    "                low=df1['low'],\n",
    "                close=df1['close'], increasing_line_color= 'lightgreen', decreasing_line_color= '#ff6961'),\n",
    "     go.Scatter(x=df1.index, y=buy.action, mode = 'markers', \n",
    "                marker=dict(color='green', colorscale='Viridis'), name=\"buy\"), \n",
    "     go.Scatter(x=df1.index, y=none.action, mode = 'markers', \n",
    "                marker=dict(color='blue', colorscale='Viridis'), name=\"none\"), \n",
    "     go.Scatter(x=df1.index, y=sell.action, mode = 'markers', \n",
    "                marker=dict(color='red', colorscale='Viridis'), name=\"sell\")]\n",
    "\n",
    "layout = go.Layout(\n",
    "    autosize=False,\n",
    "    width=900,\n",
    "    height=600)\n",
    "\n",
    "\n",
    "figSignal = go.Figure(data=data, layout=layout)\n",
    "figSignal.show()\n",
    "with open(fig_file, \"wb\") as f:\n",
    "    f.write(scope.transform(figSignal, format=\"svg\"))"
   ]
  },
  {
   "cell_type": "markdown",
   "metadata": {},
   "source": [
    "### Train Data (Plotted using seaborn)"
   ]
  },
  {
   "cell_type": "markdown",
   "metadata": {},
   "source": [
    "The following block plots the result portfolio of different models stored in the `train_portfolios` dictionary."
   ]
  },
  {
   "cell_type": "code",
   "execution_count": 18,
   "metadata": {},
   "outputs": [
    {
     "data": {
      "image/png": "[encoded data removed]",
      "text/plain": [
       "<Figure size 1080x504 with 1 Axes>"
      ]
     },
     "metadata": {},
     "output_type": "display_data"
    }
   ],
   "source": [
    "experiment_num = 1\n",
    "RESULTS_PATH = 'TestResults/Train/'\n",
    "\n",
    "import os\n",
    "\n",
    "if not os.path.exists(RESULTS_PATH):\n",
    "    os.mkdir(RESULTS_PATH)\n",
    "\n",
    "while os.path.exists(f'{RESULTS_PATH}{DATASET_NAME};train;EXPERIMENT({experiment_num}).jpg'):\n",
    "    experiment_num += 1\n",
    "\n",
    "fig_file = f'{RESULTS_PATH}{DATASET_NAME};train;EXPERIMENT({experiment_num}).jpg'\n",
    "\n",
    "sns.set(rc={'figure.figsize': (15, 7)})\n",
    "\n",
    "items = list(test_portfolios.keys())\n",
    "random.shuffle(items)\n",
    "\n",
    "first = True\n",
    "for k in items:\n",
    "    profit_percentage = [(train_portfolios[k][i] - train_portfolios[k][0])/train_portfolios[k][0] * 100 \n",
    "              for i in range(len(train_portfolios[k]))]\n",
    "    difference = len(train_portfolios[k]) - len(data_loader.data_train_with_date)\n",
    "    df = pd.DataFrame({'date': data_loader.data_train_with_date.index, \n",
    "                       'portfolio':profit_percentage[difference:]})\n",
    "    if not first:\n",
    "        df.plot(ax=ax, x='date', y='portfolio', label=k)\n",
    "    else:\n",
    "        ax = df.plot(x='date', y='portfolio', label=k)\n",
    "        first = False\n",
    "\n",
    "ax.set(xlabel='Time', ylabel='%Rate of Return')\n",
    "ax.set_title(f'%Rate of Return at each point of time for training data of {DATASET_NAME}')\n",
    "        \n",
    "plt.legend()\n",
    "plt.savefig(fig_file, dpi=300)"
   ]
  },
  {
   "cell_type": "markdown",
   "metadata": {},
   "source": [
    "### Test Data (Plotted using Seaborn)"
   ]
  },
  {
   "cell_type": "code",
   "execution_count": 19,
   "metadata": {},
   "outputs": [],
   "source": [
    "# shuffle = False\n",
    "shuffle = True"
   ]
  },
  {
   "cell_type": "markdown",
   "metadata": {},
   "source": [
    "The following block plots the results of test portfolios."
   ]
  },
  {
   "cell_type": "code",
   "execution_count": 20,
   "metadata": {},
   "outputs": [
    {
     "data": {
      "image/png": "[encoded data removed]",
      "text/plain": [
       "<Figure size 1080x504 with 1 Axes>"
      ]
     },
     "metadata": {},
     "output_type": "display_data"
    }
   ],
   "source": [
    "import random\n",
    "\n",
    "experiment_num = 1\n",
    "RESULTS_PATH = 'TestResults/Test/'\n",
    "\n",
    "import os\n",
    "\n",
    "if not os.path.exists(RESULTS_PATH):\n",
    "    os.mkdir(RESULTS_PATH)\n",
    "\n",
    "while os.path.exists(f'{RESULTS_PATH}{DATASET_NAME};test;EXPERIMENT({experiment_num}).jpg'):\n",
    "    experiment_num += 1\n",
    "\n",
    "fig_file = f'{RESULTS_PATH}{DATASET_NAME};test;EXPERIMENT({experiment_num}).jpg'\n",
    "\n",
    "sns.set(rc={'figure.figsize': (15, 7)})\n",
    "sns.set_palette(sns.color_palette(\"Paired\", 15))\n",
    "\n",
    "items = list(test_portfolios.keys())\n",
    "\n",
    "if shuffle:\n",
    "    random.shuffle(items)\n",
    "\n",
    "first = True\n",
    "for k in items:\n",
    "    profit_percentage = [(test_portfolios[k][i] - test_portfolios[k][0])/test_portfolios[k][0] * 100 \n",
    "                  for i in range(len(test_portfolios[k]))]\n",
    "    difference = len(test_portfolios[k]) - len(data_loader.data_test_with_date)\n",
    "    df = pd.DataFrame({'date': data_loader.data_test_with_date.index, \n",
    "                       'portfolio':profit_percentage[difference:]})\n",
    "    if not first:\n",
    "        df.plot(ax=ax, x='date', y='portfolio', label=k)\n",
    "    else:\n",
    "        ax = df.plot(x='date', y='portfolio', label=k)\n",
    "        first = False\n",
    "        \n",
    "ax.set(xlabel='Time', ylabel='%Rate of Return')\n",
    "ax.set_title(f'Comparing the %Rate of Return for different models '\n",
    "             f'at each point of time for test data of {DATASET_NAME}')\n",
    "plt.legend()\n",
    "plt.savefig(fig_file, dpi=300)"
   ]
  },
  {
   "cell_type": "markdown",
   "metadata": {},
   "source": [
    "### Test window size"
   ]
  },
  {
   "cell_type": "markdown",
   "metadata": {},
   "source": [
    "This block plots a line showing the relation between the window-size and the profit in each model."
   ]
  },
  {
   "cell_type": "code",
   "execution_count": 23,
   "metadata": {},
   "outputs": [
    {
     "data": {
      "image/png": "[encoded data removed]",
      "text/plain": [
       "<Figure size 648x360 with 1 Axes>"
      ]
     },
     "metadata": {},
     "output_type": "display_data"
    }
   ],
   "source": [
    "from scipy.interpolate import interp1d\n",
    "import numpy as np\n",
    "\n",
    "# 300 represents number of points to make between T.min and T.max\n",
    "# xnew = np.linspace(3, 75, 300)\n",
    "\n",
    "experiment_num = 1\n",
    "RESULTS_PATH = 'TestResults/WindowSize/'\n",
    "\n",
    "import os\n",
    "\n",
    "if not os.path.exists(RESULTS_PATH):\n",
    "    os.mkdir(RESULTS_PATH)\n",
    "\n",
    "while os.path.exists(f'{RESULTS_PATH}{DATASET_NAME};WindowSize;test({experiment_num}).jpg'):\n",
    "    experiment_num += 1\n",
    "\n",
    "fig_file = f'{RESULTS_PATH}{DATASET_NAME};WindowSize;test({experiment_num}).jpg'\n",
    "\n",
    "sns.set(rc={'figure.figsize': (9, 5)})\n",
    "sns.set_palette(sns.color_palette(\"Paired\", 15))\n",
    "\n",
    "first = True\n",
    "for key, val in window_size_experiment.items():\n",
    "    total_returns = list(val.values())\n",
    "    \n",
    "    # Normalize returns:\n",
    "    total_returns = [(r - min(total_returns))/(max(total_returns) - min(total_returns)) for r in total_returns]\n",
    "#     f1 = interp1d(window_sizes, total_returns, kind='previous')\n",
    "    if first:\n",
    "#         ax = sns.lineplot(xnew, f1(xnew), label=key)\n",
    "        ax = sns.lineplot(window_sizes, total_returns, label=key)\n",
    "        first = False\n",
    "    else:\n",
    "        sns.lineplot(ax=ax, x=window_sizes, y=total_returns, label=key)\n",
    "#         sns.lineplot(ax=ax, x=xnew, y=f1(xnew), label=key)\n",
    "        \n",
    "ax.set(xlabel='WindowSize', ylabel='%Total Return')\n",
    "ax.set_title(f'The impact of window size on different models')\n",
    "plt.legend()\n",
    "plt.savefig(fig_file, dpi=300)"
   ]
  },
  {
   "cell_type": "markdown",
   "metadata": {},
   "source": [
    "The following block plots the relation between the window-size and the profit in each model in a heatmap diagram."
   ]
  },
  {
   "cell_type": "code",
   "execution_count": 39,
   "metadata": {},
   "outputs": [
    {
     "data": {
      "image/png": "[encoded data removed]",
      "text/plain": [
       "<Figure size 720x360 with 2 Axes>"
      ]
     },
     "metadata": {},
     "output_type": "display_data"
    }
   ],
   "source": [
    "experiment_num = 1\n",
    "RESULTS_PATH = 'TestResults/WindowSize/'\n",
    "\n",
    "import os\n",
    "\n",
    "if not os.path.exists(RESULTS_PATH):\n",
    "    os.mkdir(RESULTS_PATH)\n",
    "\n",
    "while os.path.exists(f'{RESULTS_PATH}{DATASET_NAME};WindowSize;heatmap;test({experiment_num}).jpg'):\n",
    "    experiment_num += 1\n",
    "\n",
    "fig_file = f'{RESULTS_PATH}{DATASET_NAME};WindowSize;heatmap;test({experiment_num}).jpg'\n",
    "\n",
    "sns.set(rc={'figure.figsize': (10, 5)})\n",
    "\n",
    "normalized = {}\n",
    "for k1 in window_size_experiment.keys():\n",
    "    normalized[k1] = {}\n",
    "    total_returns = list(window_size_experiment[k1].values())\n",
    "    max_return = max(total_returns)\n",
    "    min_return = min(total_returns)\n",
    "    for k2 in window_size_experiment[k1].keys():\n",
    "        return_val = window_size_experiment[k1][k2]\n",
    "        normalized[k1][k2] = (return_val - min_return)/(max_return - min_return)\n",
    "        \n",
    "\n",
    "df = pd.DataFrame.transpose(pd.DataFrame.from_dict(normalized))\n",
    "sns.heatmap(df)\n",
    "\n",
    "plt.savefig(fig_file, dpi=300)"
   ]
  },
  {
   "cell_type": "code",
   "execution_count": null,
   "metadata": {},
   "outputs": [],
   "source": []
  }
 ],
 "metadata": {
  "kernelspec": {
   "display_name": "Python 3 (ipykernel)",
   "language": "python",
   "name": "python3"
  },
  "language_info": {
   "codemirror_mode": {
    "name": "ipython",
    "version": 3
   },
   "file_extension": ".py",
   "mimetype": "text/x-python",
   "name": "python",
   "nbconvert_exporter": "python",
   "pygments_lexer": "ipython3",
   "version": "3.7.13"
  }
 },
 "nbformat": 4,
 "nbformat_minor": 2
}
